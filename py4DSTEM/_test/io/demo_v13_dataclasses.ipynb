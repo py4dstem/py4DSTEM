{
 "cells": [
  {
   "cell_type": "markdown",
   "id": "9b119e63",
   "metadata": {},
   "source": [
    "# Demo v13 dataclasses"
   ]
  },
  {
   "cell_type": "code",
   "execution_count": 1,
   "id": "3d3a11d5",
   "metadata": {},
   "outputs": [],
   "source": [
    "import py4DSTEM\n",
    "import numpy as np"
   ]
  },
  {
   "cell_type": "code",
   "execution_count": 2,
   "id": "1e841710",
   "metadata": {},
   "outputs": [
    {
     "data": {
      "text/plain": [
       "'0.13.0'"
      ]
     },
     "execution_count": 2,
     "metadata": {},
     "output_type": "execute_result"
    }
   ],
   "source": [
    "py4DSTEM.__version__"
   ]
  },
  {
   "cell_type": "markdown",
   "id": "bfbb0658",
   "metadata": {},
   "source": [
    "## Array"
   ]
  },
  {
   "cell_type": "code",
   "execution_count": 3,
   "id": "a5ecd8c0",
   "metadata": {},
   "outputs": [],
   "source": [
    "py4DSTEM.io.datastructure.Array?"
   ]
  },
  {
   "cell_type": "code",
   "execution_count": 4,
   "id": "d446c348",
   "metadata": {},
   "outputs": [],
   "source": [
    "# Make an array\n",
    "\n",
    "shape = (3,4,5,6,7)\n",
    "data = np.arange(np.prod(shape)).reshape(shape)\n",
    "\n",
    "py4dstem_array = py4DSTEM.io.datastructure.Array(\n",
    "    data = data,\n",
    "    name = 'test_array',\n",
    "    units = 'intensity',   # units of the data elements, rather than the dims\n",
    "    dims = [\n",
    "        5,              # dims can be a single number, then a leading '0' is assumed\n",
    "        [0,5],          # they can be a pair of numbers, then Array linearly extrapolates\n",
    "        0.1243,\n",
    "        [0,2,3,4,5,10]  # or they can be a vector of the appropriate length\n",
    "                        # any unspecified dims are autopopulated as [0,1,...]\n",
    "    ],\n",
    "    dim_units = [\n",
    "        'nm',           # any dims with unspecified units will be autopopulated with\n",
    "        'nm',           # either \"pixels\" (if the dim was set to [0,1,..]) or \"unknown\" (if not)\n",
    "        'A^-1',\n",
    "    ],\n",
    "    dim_names = [\n",
    "        'rx',\n",
    "        'ry',\n",
    "        'qx',\n",
    "    ]\n",
    ")"
   ]
  },
  {
   "cell_type": "code",
   "execution_count": 5,
   "id": "4db42235",
   "metadata": {},
   "outputs": [
    {
     "data": {
      "text/plain": [
       "Array( A 5-dimensional array of shape (3, 4, 5, 6, 7) called 'test_array',\n",
       "       with dimensions:\n",
       "\n",
       "       rx = [0,5,...] nm\n",
       "       ry = [0,5,...] nm\n",
       "       qx = [0.0,0.1243,...] A^-1\n",
       "       dim3 = [0,2,...] unknown\n",
       "       dim4 = [0,1,...] pixels\n",
       ")"
      ]
     },
     "execution_count": 5,
     "metadata": {},
     "output_type": "execute_result"
    }
   ],
   "source": [
    "py4dstem_array"
   ]
  },
  {
   "cell_type": "code",
   "execution_count": 6,
   "id": "ad407801",
   "metadata": {},
   "outputs": [
    {
     "name": "stdout",
     "output_type": "stream",
     "text": [
      "(3, 4, 5, 6, 7)\n",
      "5\n"
     ]
    }
   ],
   "source": [
    "print(py4dstem_array.shape)\n",
    "print(py4dstem_array.rank)"
   ]
  },
  {
   "cell_type": "code",
   "execution_count": 9,
   "id": "e6668247",
   "metadata": {},
   "outputs": [
    {
     "data": {
      "text/plain": [
       "array([[[[[   0,    1],\n",
       "          [   7,    8]],\n",
       "\n",
       "         [[  42,   43],\n",
       "          [  49,   50]]],\n",
       "\n",
       "\n",
       "        [[[ 210,  211],\n",
       "          [ 217,  218]],\n",
       "\n",
       "         [[ 252,  253],\n",
       "          [ 259,  260]]]],\n",
       "\n",
       "\n",
       "\n",
       "       [[[[ 840,  841],\n",
       "          [ 847,  848]],\n",
       "\n",
       "         [[ 882,  883],\n",
       "          [ 889,  890]]],\n",
       "\n",
       "\n",
       "        [[[1050, 1051],\n",
       "          [1057, 1058]],\n",
       "\n",
       "         [[1092, 1093],\n",
       "          [1099, 1100]]]]])"
      ]
     },
     "execution_count": 9,
     "metadata": {},
     "output_type": "execute_result"
    }
   ],
   "source": [
    "py4dstem_array.data[:2,:2,:2,:2,:2]"
   ]
  },
  {
   "cell_type": "code",
   "execution_count": 10,
   "id": "92e91b5e",
   "metadata": {},
   "outputs": [
    {
     "data": {
      "text/plain": [
       "array([[[[[   0,    1],\n",
       "          [   7,    8]],\n",
       "\n",
       "         [[  42,   43],\n",
       "          [  49,   50]]],\n",
       "\n",
       "\n",
       "        [[[ 210,  211],\n",
       "          [ 217,  218]],\n",
       "\n",
       "         [[ 252,  253],\n",
       "          [ 259,  260]]]],\n",
       "\n",
       "\n",
       "\n",
       "       [[[[ 840,  841],\n",
       "          [ 847,  848]],\n",
       "\n",
       "         [[ 882,  883],\n",
       "          [ 889,  890]]],\n",
       "\n",
       "\n",
       "        [[[1050, 1051],\n",
       "          [1057, 1058]],\n",
       "\n",
       "         [[1092, 1093],\n",
       "          [1099, 1100]]]]])"
      ]
     },
     "execution_count": 10,
     "metadata": {},
     "output_type": "execute_result"
    }
   ],
   "source": [
    "py4dstem_array[:2,:2,:2,:2,:2]"
   ]
  },
  {
   "cell_type": "code",
   "execution_count": 11,
   "id": "ce919ec6",
   "metadata": {},
   "outputs": [],
   "source": [
    "# Make an array stack\n",
    "\n",
    "# Make a 3D numpy array\n",
    "shape = (10,10,4)\n",
    "data = np.arange(np.prod(shape)).reshape(shape)\n",
    "\n",
    "# Make the Array instance\n",
    "py4dstem_arraystack = py4DSTEM.io.datastructure.Array(\n",
    "    data = data,\n",
    "    name = 'test_arraystack',\n",
    "    units = 'intensity',\n",
    "    dims = [\n",
    "        5,\n",
    "        [0,5]\n",
    "    ],\n",
    "    dim_units = [\n",
    "        'nm',\n",
    "        'nm'\n",
    "    ],\n",
    "    dim_names = [\n",
    "        'rx',\n",
    "        'ry'\n",
    "    ],\n",
    "    slicelabels = [             # to make a stack array, just pass 'slicelabels', and the last dim\n",
    "        'the',                  # is understood to be the slice axis\n",
    "        'cow',\n",
    "        'jumped',\n",
    "        'over'\n",
    "    ]\n",
    ")"
   ]
  },
  {
   "cell_type": "code",
   "execution_count": 13,
   "id": "26b9eac8",
   "metadata": {},
   "outputs": [
    {
     "data": {
      "text/plain": [
       "Array( A stack of 4 Arrays with 2-dimensions and shape (10, 10), called 'test_arraystack'\n",
       "\n",
       "       The labels are:\n",
       "           the\n",
       "           cow\n",
       "           jumped\n",
       "           over\n",
       "\n",
       "\n",
       "       The Array dimensions are:\n",
       "           rx = [0,5,...] nm\n",
       "           ry = [0,5,...] nm\n",
       ")"
      ]
     },
     "execution_count": 13,
     "metadata": {},
     "output_type": "execute_result"
    }
   ],
   "source": [
    "py4dstem_arraystack"
   ]
  },
  {
   "cell_type": "code",
   "execution_count": 14,
   "id": "3997b664",
   "metadata": {},
   "outputs": [
    {
     "name": "stdout",
     "output_type": "stream",
     "text": [
      "(10, 10)\n",
      "2\n"
     ]
    }
   ],
   "source": [
    "print(py4dstem_arraystack.shape)\n",
    "print(py4dstem_arraystack.rank)"
   ]
  },
  {
   "cell_type": "code",
   "execution_count": 15,
   "id": "b3cd70d0",
   "metadata": {},
   "outputs": [
    {
     "name": "stdout",
     "output_type": "stream",
     "text": [
      "(10, 10, 4)\n",
      "4\n"
     ]
    }
   ],
   "source": [
    "print(py4dstem_arraystack.data.shape)\n",
    "print(py4dstem_arraystack.depth)"
   ]
  },
  {
   "cell_type": "code",
   "execution_count": 17,
   "id": "f311716e",
   "metadata": {},
   "outputs": [
    {
     "name": "stdout",
     "output_type": "stream",
     "text": [
      "3\n"
     ]
    }
   ],
   "source": [
    "print(py4dstem_arraystack.data.ndim)"
   ]
  },
  {
   "cell_type": "code",
   "execution_count": 18,
   "id": "d6a9ef00",
   "metadata": {},
   "outputs": [
    {
     "name": "stdout",
     "output_type": "stream",
     "text": [
      "0\n"
     ]
    }
   ],
   "source": [
    "print(py4dstem_array.depth)"
   ]
  },
  {
   "cell_type": "code",
   "execution_count": 21,
   "id": "8cda1d20",
   "metadata": {},
   "outputs": [
    {
     "data": {
      "text/plain": [
       "Array( A 2-dimensional array of shape (10, 10) called 'test_arraystack_cow',\n",
       "       with dimensions:\n",
       "\n",
       "       rx = [0,5,...] nm\n",
       "       dim1 = [0,1,...] pixels\n",
       ")"
      ]
     },
     "execution_count": 21,
     "metadata": {},
     "output_type": "execute_result"
    }
   ],
   "source": [
    "py4dstem_arraystack.get_slice('cow')"
   ]
  },
  {
   "cell_type": "code",
   "execution_count": 22,
   "id": "7041d5c7",
   "metadata": {},
   "outputs": [
    {
     "data": {
      "text/plain": [
       "Array( A 2-dimensional array of shape (10, 10) called 'test_arraystack_cow',\n",
       "       with dimensions:\n",
       "\n",
       "       rx = [0,5,...] nm\n",
       "       dim1 = [0,1,...] pixels\n",
       ")"
      ]
     },
     "execution_count": 22,
     "metadata": {},
     "output_type": "execute_result"
    }
   ],
   "source": [
    "py4dstem_arraystack['cow']"
   ]
  },
  {
   "cell_type": "code",
   "execution_count": 23,
   "id": "08e9e351",
   "metadata": {},
   "outputs": [
    {
     "data": {
      "text/plain": [
       "['the', 'cow', 'jumped', 'over']"
      ]
     },
     "execution_count": 23,
     "metadata": {},
     "output_type": "execute_result"
    }
   ],
   "source": [
    "py4dstem_arraystack.slicelabels"
   ]
  },
  {
   "cell_type": "code",
   "execution_count": 24,
   "id": "666e799e",
   "metadata": {},
   "outputs": [],
   "source": [
    "# Re-assigning a slice name propagates correctly\n",
    "py4dstem_arraystack.slicelabels[2] = 'meow'"
   ]
  },
  {
   "cell_type": "code",
   "execution_count": 25,
   "id": "7fea541a",
   "metadata": {},
   "outputs": [
    {
     "data": {
      "text/plain": [
       "['the', 'cow', 'meow', 'over']"
      ]
     },
     "execution_count": 25,
     "metadata": {},
     "output_type": "execute_result"
    }
   ],
   "source": [
    "py4dstem_arraystack.slicelabels"
   ]
  },
  {
   "cell_type": "code",
   "execution_count": 26,
   "id": "b649714b",
   "metadata": {},
   "outputs": [
    {
     "data": {
      "text/plain": [
       "Array( A stack of 4 Arrays with 2-dimensions and shape (10, 10), called 'test_arraystack'\n",
       "\n",
       "       The labels are:\n",
       "           the\n",
       "           cow\n",
       "           meow\n",
       "           over\n",
       "\n",
       "\n",
       "       The Array dimensions are:\n",
       "           rx = [0,5,...] nm\n",
       "           ry = [0,5,...] nm\n",
       ")"
      ]
     },
     "execution_count": 26,
     "metadata": {},
     "output_type": "execute_result"
    }
   ],
   "source": [
    "py4dstem_arraystack"
   ]
  },
  {
   "cell_type": "code",
   "execution_count": 28,
   "id": "10000c13",
   "metadata": {},
   "outputs": [
    {
     "data": {
      "text/plain": [
       "Array( A 2-dimensional array of shape (10, 10) called 'test_arraystack_meow',\n",
       "       with dimensions:\n",
       "\n",
       "       rx = [0,5,...] nm\n",
       "       dim1 = [0,1,...] pixels\n",
       ")"
      ]
     },
     "execution_count": 28,
     "metadata": {},
     "output_type": "execute_result"
    }
   ],
   "source": [
    "py4dstem_arraystack['meow']"
   ]
  },
  {
   "cell_type": "code",
   "execution_count": 29,
   "id": "89959a85",
   "metadata": {},
   "outputs": [
    {
     "data": {
      "text/plain": [
       "Array( A 2-dimensional array of shape (10, 10) called 'meowth_thats_right',\n",
       "       with dimensions:\n",
       "\n",
       "       rx = [0,5,...] nm\n",
       "       dim1 = [0,1,...] pixels\n",
       ")"
      ]
     },
     "execution_count": 29,
     "metadata": {},
     "output_type": "execute_result"
    }
   ],
   "source": [
    "py4dstem_arraystack.get_slice('meow', name='meowth_thats_right')"
   ]
  },
  {
   "cell_type": "code",
   "execution_count": 30,
   "id": "30daecc1",
   "metadata": {},
   "outputs": [
    {
     "data": {
      "text/plain": [
       "137"
      ]
     },
     "execution_count": 30,
     "metadata": {},
     "output_type": "execute_result"
    }
   ],
   "source": [
    "py4dstem_arraystack['cow',3,4]"
   ]
  },
  {
   "cell_type": "code",
   "execution_count": 31,
   "id": "efac2a67",
   "metadata": {},
   "outputs": [
    {
     "data": {
      "text/plain": [
       "array([[137, 141, 145],\n",
       "       [177, 181, 185]])"
      ]
     },
     "execution_count": 31,
     "metadata": {},
     "output_type": "execute_result"
    }
   ],
   "source": [
    "py4dstem_arraystack['cow',3:5,4:7]"
   ]
  },
  {
   "cell_type": "code",
   "execution_count": 32,
   "id": "8be4c6b9",
   "metadata": {},
   "outputs": [
    {
     "data": {
      "text/plain": [
       "array([[137, 141, 145],\n",
       "       [177, 181, 185]])"
      ]
     },
     "execution_count": 32,
     "metadata": {},
     "output_type": "execute_result"
    }
   ],
   "source": [
    "py4dstem_arraystack[3:5,4:7,1]"
   ]
  },
  {
   "cell_type": "markdown",
   "id": "26010d1f",
   "metadata": {},
   "source": [
    "## Datacube\n",
    "\n",
    "(child class of Array)"
   ]
  },
  {
   "cell_type": "code",
   "execution_count": 36,
   "id": "0b593c96",
   "metadata": {},
   "outputs": [],
   "source": [
    "# Make a 4D datacube\n",
    "\n",
    "shape = (8,8,64,64)\n",
    "data = np.ones(shape)\n",
    "\n",
    "datacube = py4DSTEM.io.datastructure.DataCube(\n",
    "    data = data,\n",
    "    name = 'test_datacube',\n",
    "    rsize = 5,                      # rsize,qsize,runits,qunits can all be either a len-2 list\n",
    "    runits = 'nm',                  # or a number, which will autopopulate a len-2 list\n",
    "    qsize = [0.01,0.02],\n",
    "    qunits = ['A^-1','nm^-1']\n",
    ")"
   ]
  },
  {
   "cell_type": "code",
   "execution_count": 37,
   "id": "7702a9aa",
   "metadata": {},
   "outputs": [
    {
     "data": {
      "text/plain": [
       "DataCube( A 4-dimensional array of shape (8, 8, 64, 64) called 'test_datacube',\n",
       "          with dimensions:\n",
       "\n",
       "          Rx = [0,5,...] nm\n",
       "          Ry = [0,5,...] nm\n",
       "          Qx = [0.0,0.01,...] A^-1\n",
       "          Qy = [0.0,0.02,...] nm^-1\n",
       ")"
      ]
     },
     "execution_count": 37,
     "metadata": {},
     "output_type": "execute_result"
    }
   ],
   "source": [
    "datacube"
   ]
  },
  {
   "cell_type": "code",
   "execution_count": 38,
   "id": "afa4a421",
   "metadata": {},
   "outputs": [
    {
     "name": "stdout",
     "output_type": "stream",
     "text": [
      "['A^-1', 'A^-1']\n",
      "['nm', 'nm', 'A^-1', 'A^-1']\n",
      "\n"
     ]
    },
    {
     "data": {
      "text/plain": [
       "DataCube( A 4-dimensional array of shape (8, 8, 64, 64) called 'test_datacube',\n",
       "          with dimensions:\n",
       "\n",
       "          Rx = [0,5,...] nm\n",
       "          Ry = [0,5,...] nm\n",
       "          Qx = [0.0,0.01,...] A^-1\n",
       "          Qy = [0.0,0.02,...] A^-1\n",
       ")"
      ]
     },
     "execution_count": 38,
     "metadata": {},
     "output_type": "execute_result"
    }
   ],
   "source": [
    "datacube.qunits = 'A^-1'\n",
    "print(datacube.qunits)\n",
    "print(datacube.dim_units)\n",
    "print()\n",
    "datacube"
   ]
  },
  {
   "cell_type": "code",
   "execution_count": 39,
   "id": "ab151aff",
   "metadata": {},
   "outputs": [],
   "source": [
    "# Make a stack of 4D datacubes\n",
    "\n",
    "shape = (8,8,64,64,3)\n",
    "data = np.ones(shape)\n",
    "\n",
    "datacubestack = py4DSTEM.io.datastructure.DataCube(\n",
    "    data = data,\n",
    "    name = 'test_datacubestack',\n",
    "    rsize = 5,\n",
    "    runits = 'nm',\n",
    "    qsize = [0.01,0.02],\n",
    "    qunits = ['A^-1','nm^-1'],\n",
    "    slicelabels = [\n",
    "        'datacube1',\n",
    "        'datacube2',\n",
    "        'datacube3'\n",
    "    ]\n",
    ")"
   ]
  },
  {
   "cell_type": "code",
   "execution_count": 40,
   "id": "de2e7bf1",
   "metadata": {},
   "outputs": [
    {
     "data": {
      "text/plain": [
       "DataCube( A stack of 3 Arrays with 4-dimensions and shape (8, 8, 64, 64), called 'test_datacubestack'\n",
       "\n",
       "          The labels are:\n",
       "              datacube1\n",
       "              datacube2\n",
       "              datacube3\n",
       "\n",
       "\n",
       "          The Array dimensions are:\n",
       "              Rx = [0,5,...] nm\n",
       "              Ry = [0,5,...] nm\n",
       "              Qx = [0.0,0.01,...] A^-1\n",
       "              Qy = [0.0,0.02,...] nm^-1\n",
       ")"
      ]
     },
     "execution_count": 40,
     "metadata": {},
     "output_type": "execute_result"
    }
   ],
   "source": [
    "datacubestack"
   ]
  },
  {
   "cell_type": "code",
   "execution_count": 41,
   "id": "9136998a",
   "metadata": {},
   "outputs": [
    {
     "name": "stdout",
     "output_type": "stream",
     "text": [
      "['A^-1', 'A^-1']\n",
      "['nm', 'nm', 'A^-1', 'A^-1']\n",
      "DataCube( A stack of 3 Arrays with 4-dimensions and shape (8, 8, 64, 64), called 'test_datacubestack'\n",
      "\n",
      "          The labels are:\n",
      "              datacube1\n",
      "              datacube2\n",
      "              datacube3\n",
      "\n",
      "\n",
      "          The Array dimensions are:\n",
      "              Rx = [0,5,...] nm\n",
      "              Ry = [0,5,...] nm\n",
      "              Qx = [0.0,0.01,...] A^-1\n",
      "              Qy = [0.0,0.02,...] A^-1\n",
      ")\n"
     ]
    }
   ],
   "source": [
    "datacubestack.qunits = 'A^-1'\n",
    "print(datacubestack.qunits)\n",
    "print(datacubestack.dim_units)\n",
    "print(datacubestack)"
   ]
  },
  {
   "cell_type": "markdown",
   "id": "f4b35057",
   "metadata": {},
   "source": [
    "## DiffractionSlice, RealSlice\n",
    "\n",
    "(child classes of Array)"
   ]
  },
  {
   "cell_type": "code",
   "execution_count": 42,
   "id": "e94c9ae8",
   "metadata": {},
   "outputs": [],
   "source": [
    "# Make a DiffractionSlice\n",
    "\n",
    "shape = (256,256)\n",
    "data = np.arange(np.prod(shape)).reshape(shape)\n",
    "\n",
    "# Make the Array instance\n",
    "py4dstem_diffractionslice = py4DSTEM.io.datastructure.DiffractionSlice(\n",
    "    data = data,\n",
    "    name = 'test_diffractionslice',\n",
    "    pixelsize = 2,                          # number or len-2 list\n",
    "    pixelunits = 'A^-1',                    # string or len-2 list\n",
    ")"
   ]
  },
  {
   "cell_type": "code",
   "execution_count": 43,
   "id": "e4cd1d1f",
   "metadata": {},
   "outputs": [
    {
     "data": {
      "text/plain": [
       "DiffractionSlice( A 2-dimensional array of shape (256, 256) called 'test_diffractionslice',\n",
       "                  with dimensions:\n",
       "\n",
       "                  Qx = [0,2,...] A^-1\n",
       "                  Qy = [0,2,...] A^-1\n",
       ")"
      ]
     },
     "execution_count": 43,
     "metadata": {},
     "output_type": "execute_result"
    }
   ],
   "source": [
    "py4dstem_diffractionslice"
   ]
  },
  {
   "cell_type": "code",
   "execution_count": 44,
   "id": "ad79b4d0",
   "metadata": {},
   "outputs": [],
   "source": [
    "# Make a DiffractionSlice stack\n",
    "\n",
    "shape = (64,64,3)\n",
    "data = np.ones(shape)\n",
    "\n",
    "diffractionstack = py4DSTEM.io.datastructure.DiffractionSlice(\n",
    "    data = data,\n",
    "    name = 'test_diffractionstack',\n",
    "    pixelsize = 3,\n",
    "    pixelunits = 'A^-1',\n",
    "    slicelabels = [\n",
    "        'im',\n",
    "        'a',\n",
    "        'teapot'\n",
    "    ]\n",
    ")"
   ]
  },
  {
   "cell_type": "code",
   "execution_count": 45,
   "id": "81c99dbf",
   "metadata": {},
   "outputs": [
    {
     "data": {
      "text/plain": [
       "DiffractionSlice( A stack of 3 Arrays with 2-dimensions and shape (64, 64), called 'test_diffractionstack'\n",
       "\n",
       "                  The labels are:\n",
       "                      im\n",
       "                      a\n",
       "                      teapot\n",
       "\n",
       "\n",
       "                  The Array dimensions are:\n",
       "                      Qx = [0,3,...] A^-1\n",
       "                      Qy = [0,3,...] A^-1\n",
       ")"
      ]
     },
     "execution_count": 45,
     "metadata": {},
     "output_type": "execute_result"
    }
   ],
   "source": [
    "diffractionstack"
   ]
  },
  {
   "cell_type": "code",
   "execution_count": 46,
   "id": "e95ba887",
   "metadata": {},
   "outputs": [
    {
     "name": "stdout",
     "output_type": "stream",
     "text": [
      "['A^-1', 'A^-1']\n",
      "['A^-1', 'A^-1']\n",
      "DiffractionSlice( A stack of 3 Arrays with 2-dimensions and shape (64, 64), called 'test_diffractionstack'\n",
      "\n",
      "                  The labels are:\n",
      "                      im\n",
      "                      a\n",
      "                      teapot\n",
      "\n",
      "\n",
      "                  The Array dimensions are:\n",
      "                      Qx = [0,3,...] A^-1\n",
      "                      Qy = [0,3,...] A^-1\n",
      ")\n"
     ]
    }
   ],
   "source": [
    "print(diffractionstack.pixelunits)\n",
    "print(diffractionstack.dim_units)\n",
    "print(diffractionstack)"
   ]
  },
  {
   "cell_type": "markdown",
   "id": "502bcfd0",
   "metadata": {},
   "source": [
    "## PointList"
   ]
  },
  {
   "cell_type": "code",
   "execution_count": 48,
   "id": "c58d01b0",
   "metadata": {},
   "outputs": [],
   "source": [
    "# Make a PointList\n",
    "\n",
    "# generate a structured numpy array\n",
    "dtype = [('qx',float),\n",
    "         ('qy',float),\n",
    "         ('I',float),\n",
    "         ('h',int),\n",
    "         ('k',int),\n",
    "         ('l',int)]\n",
    "data = np.zeros(10,dtype=dtype)\n",
    "\n",
    "pointlist = py4DSTEM.io.datastructure.PointList(\n",
    "    data = data,                                     # accepts numpy structured arrays - no more \"coordinates\"\n",
    "    name = 'test_pointlist'\n",
    ")"
   ]
  },
  {
   "cell_type": "code",
   "execution_count": 49,
   "id": "3e0e9939",
   "metadata": {},
   "outputs": [
    {
     "data": {
      "text/plain": [
       "PointList( A length 10 PointList called 'test_pointlist',\n",
       "           with 6 fields:\n",
       "\n",
       "           qx   (float64)\n",
       "           qy   (float64)\n",
       "           I    (float64)\n",
       "           h    (int64)\n",
       "           k    (int64)\n",
       "           l    (int64)\n",
       ")"
      ]
     },
     "execution_count": 49,
     "metadata": {},
     "output_type": "execute_result"
    }
   ],
   "source": [
    "pointlist"
   ]
  },
  {
   "cell_type": "code",
   "execution_count": 50,
   "id": "d0e9cf12",
   "metadata": {},
   "outputs": [
    {
     "data": {
      "text/plain": [
       "array([(0., 0., 0., 0, 0, 0), (0., 0., 0., 0, 0, 0),\n",
       "       (0., 0., 0., 0, 0, 0), (0., 0., 0., 0, 0, 0),\n",
       "       (0., 0., 0., 0, 0, 0), (0., 0., 0., 0, 0, 0),\n",
       "       (0., 0., 0., 0, 0, 0), (0., 0., 0., 0, 0, 0),\n",
       "       (0., 0., 0., 0, 0, 0), (0., 0., 0., 0, 0, 0)],\n",
       "      dtype=[('qx', '<f8'), ('qy', '<f8'), ('I', '<f8'), ('h', '<i8'), ('k', '<i8'), ('l', '<i8')])"
      ]
     },
     "execution_count": 50,
     "metadata": {},
     "output_type": "execute_result"
    }
   ],
   "source": [
    "pointlist.data"
   ]
  },
  {
   "cell_type": "code",
   "execution_count": 51,
   "id": "f96fb095",
   "metadata": {},
   "outputs": [
    {
     "data": {
      "text/plain": [
       "array([0., 0., 0., 0., 0., 0., 0., 0., 0., 0.])"
      ]
     },
     "execution_count": 51,
     "metadata": {},
     "output_type": "execute_result"
    }
   ],
   "source": [
    "pointlist.data['qx']"
   ]
  },
  {
   "cell_type": "code",
   "execution_count": 52,
   "id": "5e4f97ca",
   "metadata": {},
   "outputs": [
    {
     "data": {
      "text/plain": [
       "array([(0., 0., 0., 0, 0, 0), (0., 0., 0., 0, 0, 0),\n",
       "       (0., 0., 0., 0, 0, 0)],\n",
       "      dtype=[('qx', '<f8'), ('qy', '<f8'), ('I', '<f8'), ('h', '<i8'), ('k', '<i8'), ('l', '<i8')])"
      ]
     },
     "execution_count": 52,
     "metadata": {},
     "output_type": "execute_result"
    }
   ],
   "source": [
    "pointlist.data[:3]"
   ]
  },
  {
   "cell_type": "code",
   "execution_count": 53,
   "id": "18870f17",
   "metadata": {},
   "outputs": [
    {
     "data": {
      "text/plain": [
       "array([(0., 0., 0., 0, 0, 0), (0., 0., 0., 0, 0, 0),\n",
       "       (0., 0., 0., 0, 0, 0), (0., 0., 0., 0, 0, 0),\n",
       "       (0., 0., 0., 0, 0, 0), (0., 0., 0., 0, 0, 0),\n",
       "       (0., 0., 0., 0, 0, 0), (0., 0., 0., 0, 0, 0),\n",
       "       (0., 0., 0., 0, 0, 0), (0., 0., 0., 0, 0, 0)],\n",
       "      dtype=[('qx', '<f8'), ('qy', '<f8'), ('I', '<f8'), ('h', '<i8'), ('k', '<i8'), ('l', '<i8')])"
      ]
     },
     "execution_count": 53,
     "metadata": {},
     "output_type": "execute_result"
    }
   ],
   "source": [
    "pointlist[...]"
   ]
  },
  {
   "cell_type": "code",
   "execution_count": 54,
   "id": "a10377c3",
   "metadata": {},
   "outputs": [
    {
     "data": {
      "text/plain": [
       "array([0., 0., 0., 0., 0., 0., 0., 0., 0., 0.])"
      ]
     },
     "execution_count": 54,
     "metadata": {},
     "output_type": "execute_result"
    }
   ],
   "source": [
    "pointlist['qx']"
   ]
  },
  {
   "cell_type": "code",
   "execution_count": 55,
   "id": "59f08e32",
   "metadata": {},
   "outputs": [
    {
     "data": {
      "text/plain": [
       "array([(0., 0., 0., 0, 0, 0), (0., 0., 0., 0, 0, 0),\n",
       "       (0., 0., 0., 0, 0, 0)],\n",
       "      dtype=[('qx', '<f8'), ('qy', '<f8'), ('I', '<f8'), ('h', '<i8'), ('k', '<i8'), ('l', '<i8')])"
      ]
     },
     "execution_count": 55,
     "metadata": {},
     "output_type": "execute_result"
    }
   ],
   "source": [
    "pointlist[:3]"
   ]
  },
  {
   "cell_type": "markdown",
   "id": "008bc171",
   "metadata": {},
   "source": [
    "## PointListArray"
   ]
  },
  {
   "cell_type": "code",
   "execution_count": 57,
   "id": "269d2555",
   "metadata": {},
   "outputs": [],
   "source": [
    "# Make a PointListArray\n",
    "\n",
    "# Set up datatype and shape\n",
    "dtype = [('qx',float),\n",
    "         ('qy',float),\n",
    "         ('I',float)]\n",
    "shape = (20,30)\n",
    "\n",
    "\n",
    "pla = py4DSTEM.io.datastructure.PointListArray(\n",
    "    dtype = dtype,\n",
    "    shape = shape,\n",
    "    name = 'test_pla'\n",
    ")\n",
    "\n",
    "for rx in range(pla.shape[0]):\n",
    "    for ry in range(pla.shape[1]):\n",
    "        data = np.ones(10,dtype=dtype)\n",
    "        data['I'] *= (ry*shape[0]+rx)\n",
    "        # add the data\n",
    "        pla[rx,ry].append(data)"
   ]
  },
  {
   "cell_type": "code",
   "execution_count": 58,
   "id": "80ce3c6f",
   "metadata": {},
   "outputs": [
    {
     "data": {
      "text/plain": [
       "PointListArray( A shape (20, 30) PointListArray called 'test_pla',\n",
       "                with 3 fields:\n",
       "\n",
       "                qx   (float64)\n",
       "                qy   (float64)\n",
       "                I    (float64)\n",
       ")"
      ]
     },
     "execution_count": 58,
     "metadata": {},
     "output_type": "execute_result"
    }
   ],
   "source": [
    "pla"
   ]
  },
  {
   "cell_type": "code",
   "execution_count": 59,
   "id": "d9c45953",
   "metadata": {},
   "outputs": [
    {
     "data": {
      "text/plain": [
       "PointList( A length 10 PointList called '5,1',\n",
       "           with 3 fields:\n",
       "\n",
       "           qx   (float64)\n",
       "           qy   (float64)\n",
       "           I    (float64)\n",
       ")"
      ]
     },
     "execution_count": 59,
     "metadata": {},
     "output_type": "execute_result"
    }
   ],
   "source": [
    "pla.get_pointlist(5,1)"
   ]
  },
  {
   "cell_type": "code",
   "execution_count": 69,
   "id": "a98a7b84",
   "metadata": {},
   "outputs": [
    {
     "data": {
      "text/plain": [
       "PointList( A length 10 PointList called '5,1',\n",
       "           with 3 fields:\n",
       "\n",
       "           qx   (float64)\n",
       "           qy   (float64)\n",
       "           I    (float64)\n",
       ")"
      ]
     },
     "execution_count": 69,
     "metadata": {},
     "output_type": "execute_result"
    }
   ],
   "source": [
    "pla[5,1]"
   ]
  },
  {
   "cell_type": "code",
   "execution_count": 62,
   "id": "613c7313",
   "metadata": {},
   "outputs": [
    {
     "data": {
      "text/plain": [
       "array([(1., 1., 25.), (1., 1., 25.), (1., 1., 25.), (1., 1., 25.),\n",
       "       (1., 1., 25.), (1., 1., 25.), (1., 1., 25.), (1., 1., 25.),\n",
       "       (1., 1., 25.), (1., 1., 25.)],\n",
       "      dtype=[('qx', '<f8'), ('qy', '<f8'), ('I', '<f8')])"
      ]
     },
     "execution_count": 62,
     "metadata": {},
     "output_type": "execute_result"
    }
   ],
   "source": [
    "pla[5,1][...]"
   ]
  },
  {
   "cell_type": "code",
   "execution_count": 64,
   "id": "412be2ac",
   "metadata": {},
   "outputs": [
    {
     "data": {
      "text/plain": [
       "PointList( A length 10 PointList called 'echidnas_r_us',\n",
       "           with 3 fields:\n",
       "\n",
       "           qx   (float64)\n",
       "           qy   (float64)\n",
       "           I    (float64)\n",
       ")"
      ]
     },
     "execution_count": 64,
     "metadata": {},
     "output_type": "execute_result"
    }
   ],
   "source": [
    "pla.get_pointlist(5,1,name='echidnas_r_us')"
   ]
  },
  {
   "cell_type": "code",
   "execution_count": 65,
   "id": "d2fac78c",
   "metadata": {},
   "outputs": [
    {
     "data": {
      "text/plain": [
       "PointList( A length 10 PointList called '5,1',\n",
       "           with 3 fields:\n",
       "\n",
       "           qx   (float64)\n",
       "           qy   (float64)\n",
       "           I    (float64)\n",
       ")"
      ]
     },
     "execution_count": 65,
     "metadata": {},
     "output_type": "execute_result"
    }
   ],
   "source": [
    "pla[5,1]"
   ]
  },
  {
   "cell_type": "markdown",
   "id": "44feea28",
   "metadata": {},
   "source": [
    "## Calibration"
   ]
  },
  {
   "cell_type": "code",
   "execution_count": 72,
   "id": "31c9aa21",
   "metadata": {},
   "outputs": [
    {
     "data": {
      "text/plain": [
       "Calibration( A Calibration metadata instance called 'calibration', containing the following fields:\n",
       "\n",
       "             Q_pixel_size:    1\n",
       "             Q_pixel_units:   pixels\n",
       "             R_pixel_size:    1\n",
       "             R_pixel_units:   pixels\n",
       "             R_Nx:            10\n",
       "             R_Ny:            10\n",
       "             Q_Nx:            50\n",
       "             Q_Ny:            50\n",
       ")"
      ]
     },
     "execution_count": 72,
     "metadata": {},
     "output_type": "execute_result"
    }
   ],
   "source": [
    "cal = py4DSTEM.io.datastructure.Calibration(\n",
    "    (10,10,50,50)     # can optionally be initialized with a datacube shape\n",
    ")\n",
    "\n",
    "cal"
   ]
  },
  {
   "cell_type": "code",
   "execution_count": 73,
   "id": "2f7dc483",
   "metadata": {},
   "outputs": [
    {
     "data": {
      "text/plain": [
       "Calibration( A Calibration metadata instance called 'calibration', containing the following fields:\n",
       "\n",
       "             Q_pixel_size:    0.1\n",
       "             Q_pixel_units:   nm^-1\n",
       "             R_pixel_size:    0.2\n",
       "             R_pixel_units:   A\n",
       "             R_Nx:            10\n",
       "             R_Ny:            10\n",
       "             Q_Nx:            50\n",
       "             Q_Ny:            50\n",
       ")"
      ]
     },
     "execution_count": 73,
     "metadata": {},
     "output_type": "execute_result"
    }
   ],
   "source": [
    "cal.set_Q_pixel_size(0.1)\n",
    "cal.set_Q_pixel_units('nm^-1')\n",
    "\n",
    "cal.set_R_pixel_size(0.2)\n",
    "cal.set_R_pixel_units('A')\n",
    "                      \n",
    "cal"
   ]
  },
  {
   "cell_type": "code",
   "execution_count": 87,
   "id": "c8e03363",
   "metadata": {},
   "outputs": [
    {
     "data": {
      "text/plain": [
       "Calibration( A Calibration metadata instance called 'calibration', containing the following fields:\n",
       "\n",
       "             Q_pixel_size:    0.1\n",
       "             Q_pixel_units:   nm^-1\n",
       "             R_pixel_size:    0.2\n",
       "             R_pixel_units:   A\n",
       "             R_Nx:            10\n",
       "             R_Ny:            10\n",
       "             Q_Nx:            50\n",
       "             Q_Ny:            50\n",
       "             origin:          3D-array\n",
       "             a:               1\n",
       "             b:               1\n",
       "             theta:           0\n",
       ")"
      ]
     },
     "execution_count": 87,
     "metadata": {},
     "output_type": "execute_result"
    }
   ],
   "source": [
    "origin = np.ones((10,10,2))*5.2\n",
    "cal.set_origin(origin)\n",
    "\n",
    "cal"
   ]
  },
  {
   "cell_type": "code",
   "execution_count": 83,
   "id": "248c1cf4",
   "metadata": {},
   "outputs": [
    {
     "data": {
      "text/plain": [
       "(10, 10, 2)"
      ]
     },
     "execution_count": 83,
     "metadata": {},
     "output_type": "execute_result"
    }
   ],
   "source": [
    "cal.get_origin().shape  # flip dims so 2 is first"
   ]
  },
  {
   "cell_type": "code",
   "execution_count": 84,
   "id": "7db9e5c0",
   "metadata": {},
   "outputs": [
    {
     "data": {
      "text/plain": [
       "(1, 1, 0)"
      ]
     },
     "execution_count": 84,
     "metadata": {},
     "output_type": "execute_result"
    }
   ],
   "source": [
    "cal.get_ellipse(2,5)"
   ]
  },
  {
   "cell_type": "code",
   "execution_count": 77,
   "id": "23b05bcc",
   "metadata": {},
   "outputs": [],
   "source": [
    "cal.set_ellipse((1,1,0))"
   ]
  },
  {
   "cell_type": "code",
   "execution_count": 78,
   "id": "20316e8a",
   "metadata": {},
   "outputs": [
    {
     "data": {
      "text/plain": [
       "(1, 1, 0)"
      ]
     },
     "execution_count": 78,
     "metadata": {},
     "output_type": "execute_result"
    }
   ],
   "source": [
    "cal.get_ellipse()"
   ]
  },
  {
   "cell_type": "code",
   "execution_count": null,
   "id": "0e583537",
   "metadata": {},
   "outputs": [],
   "source": [
    "cal.get_p_ellipse()"
   ]
  },
  {
   "cell_type": "code",
   "execution_count": null,
   "id": "a948e3ce",
   "metadata": {},
   "outputs": [],
   "source": [
    "# get_ellipticity   \n",
    "# get_ellipse\n",
    "\n",
    "# get_elliptical_coordinates"
   ]
  }
 ],
 "metadata": {
  "kernelspec": {
   "display_name": "Python 3 (ipykernel)",
   "language": "python",
   "name": "python3"
  },
  "language_info": {
   "codemirror_mode": {
    "name": "ipython",
    "version": 3
   },
   "file_extension": ".py",
   "mimetype": "text/x-python",
   "name": "python",
   "nbconvert_exporter": "python",
   "pygments_lexer": "ipython3",
   "version": "3.8.13"
  }
 },
 "nbformat": 4,
 "nbformat_minor": 5
}
