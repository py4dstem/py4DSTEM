{
 "cells": [
  {
   "cell_type": "markdown",
   "id": "c54d5e2c-cd25-438f-a662-57347fb5114a",
   "metadata": {},
   "source": [
    "# py4DSTEM Tutorial - Constructing Probe Templates\n",
    "---\n",
    "\n",
    "### Table of Contents\n",
    "\n",
    "* [Part 0 - Download the datasets.](#part_00)\n",
    "* [Part 1 - Probe template from vacuum scan.](#part_01)\n",
    "* [Part 2 - Probe template from vaccum region of an experiment.](#part_02)\n",
    "* [Part 3 - Probe template from thin region of an experiment.](#part_03)\n",
    "* [Part 4 - Synthetic probe template.](#part_04)\n",
    "\n",
    "\n",
    "### Introduction\n",
    "\n",
    "This is a tutorial notebook for constructing STEM probe template images. The goal is to measure or approximate the image of a STEM probe in vacuum (i.e. no scattering from a sample), and shift it to the origin. These \"probe templates\" can be used for:\n",
    "1. Bragg disk detection using correlation.\n",
    "2. Bragg disk detection using machine learning networks.\n",
    "3. Calibration of the probe semiangle, ellipticity, or other probe geometric parameters.\n",
    "4. Inital probe intensity distribution for ptychographic reconstructions.\n",
    "\n",
    "There are 4 methods of constructing a probe template covered in this tutorial.  In order from best to worst, they are:\n",
    "1. Immediately after completing on or more 4D-STEM experiments: Move the sample out of the way, and record of a series of images of the STEM probe under the exact same imaging conditions, with no scanning.\n",
    "2. Average a subset of images from an experimental dataset, where the probe passes through vacuum.\n",
    "3. Average a subset of images from an experimental dataset, where the probe passes though the thinnest posisble region of the sample.\n",
    "4. Construct a synthetic probe image.\n",
    "\n",
    "These 4 methods in order correspond to the 4 parts of this tutorial.\n",
    "\n",
    "### Acknowledgements\n",
    "\n",
    "This tutorial was written by Colin Ophus at Berkeley Lab (clophus@lbl.gov).\n",
    "The 4D-STEM datasets used here were collected by:\n",
    "1. Clarissa Bhargava\n",
    "2. Sean Mills\n",
    "3. Karen Bustillo\n",
    "4. Shiteng Zhao\n",
    "\n",
    "### Version\n",
    "Last updated on 2021-06-01 with py4DSTEM version 0.12.0."
   ]
  },
  {
   "cell_type": "markdown",
   "id": "9f9c4de7-0b0d-4fcc-bc72-b834b2e063e4",
   "metadata": {},
   "source": [
    "# Part 0 - Download the datasets used in this tutorial <a class=\"anchor\" id=\"part_00\"></a>\n",
    "\n",
    "You can download the 4 tutorial datasets here: \n",
    "1. [part 1](https://drive.google.com/file/d/1QTcSKzZjHZd1fDimSI_q9_WsAU25NIXe/view?usp=sharing)\n",
    "2. [part 2](https://drive.google.com/file/d/1iBSANFQT9eacpn7aAE6PmFdIRYQxenGg/view?usp=sharing)\n",
    "3. [part 3](https://drive.google.com/file/d/1p9GaV0k628_afbdqFW62rHObcjQ09qyl/view?usp=sharing)\n",
    "4. [part 4](https://drive.google.com/file/d/1sUrPEgM1wWyTh-LJ30lGUhcXklHj6ajC/view?usp=sharing)\n",
    "\n",
    "Once you have downloaded all 4, uppdate the variables `file_path_example_##` in the next cell to reflect that path to the file."
   ]
  },
  {
   "cell_type": "code",
   "execution_count": 2,
   "id": "0b437983-0f73-49ef-965f-db0f5ce58eef",
   "metadata": {},
   "outputs": [],
   "source": [
    "# Set the file paths for the input datasets.\n",
    "# The location of these files may be different, depending on your operating system and browser download path.\n",
    "# If you are running this tutorial on Binder, you do not need to change these paths.\n",
    "file_path_example_01 = 'c:/data/vacuum_probe_20x20.dm4'\n",
    "file_path_example_02 = 'c:/data/bullseye_probe_scan_edge.dm4'\n",
    "file_path_example_03 = 'c:/data/NiPt_nanoparticle_20x20.dm3'\n",
    "file_path_example_04 = 'c:/data/twinBoundary_ShitengZhao20190115MEA.h5'"
   ]
  },
  {
   "cell_type": "code",
   "execution_count": 3,
   "id": "a19885f1-7491-450b-bd43-09102c27ff94",
   "metadata": {},
   "outputs": [],
   "source": [
    "# Initialization - import the needed packages (for this tutorial, you only need py4DSTEM and numpy for basic operations, and Gaussian filtering from scipy)\n",
    "import py4DSTEM\n",
    "import numpy as np\n",
    "from scipy.ndimage.filters import gaussian_filter\n",
    "from scipy.ndimage.morphology import binary_erosion "
   ]
  },
  {
   "cell_type": "markdown",
   "id": "cb25410a-5606-4060-b292-129d6280d9f4",
   "metadata": {
    "tags": []
   },
   "source": [
    "---\n",
    "# Part 1 - Building a probe template from a vacuum scan <a class=\"anchor\" id=\"part_01\"></a>\n",
    "---\n",
    "The ideal method to construct a probe template image is to measure it directly on the microscope.  Here are some best practices:\n",
    "1. Record the vacuum scan immediately after you have finished your experiments (or before).\n",
    "2. **Keep the microscope settings identical to the experiments**, except in the case of a beamstop.  If you are using a beamstop, you can spread the beam above the condenser aperture to reduce the brightness, and then move the beamstop out of the way before recording the vacuum scan.\n",
    "3. Record more than one image. Remember that even in vacuum, your measurement is affected by Poisson shot noise (limited electron counts) and detector readout noise.\n",
    "4. Do not scan the beam while recording the vacuum template. We can easily remove the shifts of the beam center position due to STEM coil de-scan, but this is not necessary if you do not move the probe."
   ]
  },
  {
   "cell_type": "code",
   "execution_count": 4,
   "id": "b2452a5c-1fe8-4194-88e8-2f7b22eddb31",
   "metadata": {},
   "outputs": [
    {
     "name": "stdout",
     "output_type": "stream",
     "text": [
      "(400, 1, 512, 512)\n"
     ]
    }
   ],
   "source": [
    "# Load example 1, a 20 x 20 scan where the probe does not move and no sample is present.\n",
    "dataset_01 = py4DSTEM.io.read(file_path_example_01)\n",
    "\n",
    "# Display the size of the dataset\n",
    "print(dataset_01.data.shape)"
   ]
  },
  {
   "cell_type": "markdown",
   "id": "c14459ba-e4fb-4f0f-84ab-d8818840ea1e",
   "metadata": {},
   "source": [
    "We see the dataset size is `[400 x 1]` probe positions, composed of CBED images each having a size of `[512 x 512]` pixels.\n",
    "\n",
    "The data is 3D rather than 4D because this data was recorded as a \"time series\" with a custom dm3 recording script on our Titan.\n",
    "\n",
    "For this example, we don't technically need to reshape the dimensions of this array to be `[20 x 20 x 512 x 512]`, but it's a good habit and will be useful for the other examples in this tutorial."
   ]
  },
  {
   "cell_type": "code",
   "execution_count": 5,
   "id": "b537ef98-0b6d-46ac-a07e-7dc08b5bd45f",
   "metadata": {},
   "outputs": [
    {
     "name": "stdout",
     "output_type": "stream",
     "text": [
      "(20, 20, 512, 512)\n"
     ]
    }
   ],
   "source": [
    "# Reshape the scan size from [400 x 1] to [20 x 20]\n",
    "dataset_01.set_scan_shape(20, 20)\n",
    "print(dataset_01.data.shape)"
   ]
  },
  {
   "cell_type": "code",
   "execution_count": 6,
   "id": "ec32d50f-75e4-44ef-8229-7e90909b9902",
   "metadata": {},
   "outputs": [
    {
     "data": {
      "image/png": "[encoded data removed]",
      "text/plain": [
       "<Figure size 576x576 with 1 Axes>"
      ]
     },
     "metadata": {
      "needs_background": "light"
     },
     "output_type": "display_data"
    }
   ],
   "source": [
    "# Let's examine the diffraction pattern data by looking at the mean CBED image.\n",
    "diffraction_pattern_mean_01 = np.mean(dataset_01.data, axis=(0,1))\n",
    "py4DSTEM.visualize.show(diffraction_pattern_mean_01)"
   ]
  },
  {
   "cell_type": "markdown",
   "id": "08c2a981-82ba-4d60-9409-0787033c9796",
   "metadata": {},
   "source": [
    "The above image looks like it should - An isolated probe near the center of the field of view, with a circular shape given by the condenser aperture used. However, you will now learn how to closely inspect this data to verify a few facts:\n",
    "1. The probe is really in vacuum\n",
    "2. The STEM beam was not scanned while this data was recorded."
   ]
  },
  {
   "cell_type": "code",
   "execution_count": 7,
   "id": "58d32c9b-f5d3-4bae-99f2-ecd9e7c0a82f",
   "metadata": {},
   "outputs": [
    {
     "data": {
      "image/png": "[encoded data removed]",
      "text/plain": [
       "<Figure size 576x576 with 1 Axes>"
      ]
     },
     "metadata": {
      "needs_background": "light"
     },
     "output_type": "display_data"
    }
   ],
   "source": [
    "# Zoom in on the probe for a closer look - note that numpy array indexing is always [row, column]\n",
    "x_range = np.array((-15,15)) + 252  # range of x axis pixels to plot (rows)  \n",
    "y_range = np.array((-15,15)) + 251  # range of y axis pixels to plot (columns)\n",
    "\n",
    "# Feel free to move around the center coordinate (252, 251) or change the cropped sizes from (-15:15) to other dimensions\n",
    "fig, ax = py4DSTEM.visualize.show(diffraction_pattern_mean_01,\n",
    "                       returnfig=True)\n",
    "ax.set_xlim(y_range[0], y_range[1]);\n",
    "ax.set_ylim(x_range[1], x_range[0]);"
   ]
  },
  {
   "cell_type": "code",
   "execution_count": 8,
   "id": "0e7a8337-c569-44fb-ba30-a5752239870c",
   "metadata": {},
   "outputs": [
    {
     "name": "stdout",
     "output_type": "stream",
     "text": [
      "0.04 6425.9\n"
     ]
    }
   ],
   "source": [
    "# Now, lets change the plotting color range to verify the vacuum region really is vacuum (close to zero signal).\n",
    "# Step 1 is getting the minimum and maximum ranges (which are set to black and white color levels respectively above)\n",
    "print(np.min(diffraction_pattern_mean_01),np.max(diffraction_pattern_mean_01))"
   ]
  },
  {
   "cell_type": "code",
   "execution_count": 9,
   "id": "dff3350f-9e88-4db0-a4d3-cecf4a1e9283",
   "metadata": {},
   "outputs": [
    {
     "data": {
      "image/png": "[encoded data removed]",
      "text/plain": [
       "<Figure size 576x576 with 1 Axes>"
      ]
     },
     "metadata": {
      "needs_background": "light"
     },
     "output_type": "display_data"
    }
   ],
   "source": [
    "# We see that the min intensity is essentially zero, and the max is 6425.9 counts (note this is some factor * # of electrons).\n",
    "\n",
    "# Let's scale the plotting range to be from 0 to 1% of the maximum recorded counts.\n",
    "# clipvals='manual' will set the intensity range scaling to be manually specified by the user,\n",
    "# while min and max specify the intensity values assigned to black and white respectively.\n",
    "fig, ax = py4DSTEM.visualize.show(diffraction_pattern_mean_01,\n",
    "                        clipvals='manual',\n",
    "                        min=0,\n",
    "                        max=np.max(diffraction_pattern_mean_01) * 0.01,\n",
    "                        returnfig=True)\n",
    "ax.set_xlim(y_range[0], y_range[1]);\n",
    "ax.set_ylim(x_range[1], x_range[0]);"
   ]
  },
  {
   "cell_type": "markdown",
   "id": "9477db6e-28ce-479f-b8a1-c97cff82860e",
   "metadata": {},
   "source": [
    "We see that the probe intensity falls off extremely rapidly to zero. \n",
    "\n",
    "A small \"*bloom*\" is visible a few pixels out, which is due to the camera scintillator causing a slight point spread function. However since this extra intensitiy is roughly 1% of the peak intensity, it will not cause any issues.\n",
    "\n",
    "Next, we will perform a quick manual check to see if the probe shows movement between scan positions. We can perform this check in several ways, but here we will simply plot the difference in measured intensity for probes at different scan positions in the dataset. "
   ]
  },
  {
   "cell_type": "code",
   "execution_count": 10,
   "id": "ccd510a5-2d45-4dba-8c8f-80721a8cd70a",
   "metadata": {},
   "outputs": [
    {
     "data": {
      "image/png": "[encoded data removed]",
      "text/plain": [
       "<Figure size 576x576 with 1 Axes>"
      ]
     },
     "metadata": {
      "needs_background": "light"
     },
     "output_type": "display_data"
    }
   ],
   "source": [
    "# Calculate the difference between two images along row 10, the left-most (index 0) and right-most images (index -1).\n",
    "# This data consists of unsigned integers, which cannot display negative values. We therefore convert the images to floating point.\n",
    "diffraction_image_diff = dataset_01.data[10,0,:,:].astype(float) \\\n",
    "                       - dataset_01.data[10,-1,:,:].astype(float)\n",
    " # Note, the backslash \\ just means \"go to next line\"\n",
    "\n",
    "# Plot the ranges from -5% to +5% of the maximum value\n",
    "fig, ax = py4DSTEM.visualize.show(diffraction_image_diff,\n",
    "                        clipvals='manual',\n",
    "                        min=np.max(diffraction_pattern_mean_01) * -0.05,\n",
    "                        max=np.max(diffraction_pattern_mean_01) * 0.05,\n",
    "                        returnfig=True)\n",
    "ax.set_xlim(y_range[0], y_range[1]);\n",
    "ax.set_ylim(x_range[1], x_range[0]);"
   ]
  },
  {
   "cell_type": "markdown",
   "id": "85f74b1f-c267-48ea-bd51-659abe8385e5",
   "metadata": {},
   "source": [
    "First, we see why many images should be averaged to create the probe template - intensity fluctuations of +/-5% are clearly visible between images. This is due to the poisson noise statistics (shot noise) for a finite electron dose experiment. The vacuum probe on average will have a much smoother intensity distribution, and so we must average many images to approximate it.\n",
    "\n",
    "Additionally, we can see in the above image that the probe does not appear to be shifted (as expected for this experiment).  Let's take a quick look at what we would see if the probe were shifting during the recording of this data."
   ]
  },
  {
   "cell_type": "code",
   "execution_count": 11,
   "id": "b50c3c15-41d1-4c48-8a49-79f869eae308",
   "metadata": {},
   "outputs": [
    {
     "data": {
      "image/png": "[encoded data removed]",
      "text/plain": [
       "<Figure size 576x576 with 1 Axes>"
      ]
     },
     "metadata": {
      "needs_background": "light"
     },
     "output_type": "display_data"
    }
   ],
   "source": [
    "# Deliberately introduce a shift between two probe images - try different shifts such as -1, or changing axis=0 to axis=1\n",
    "diffraction_image_diff = dataset_01.data[10,0,:,:].astype(float) \\\n",
    "                       - np.roll(dataset_01.data[10,-1,:,:].astype(float), 1, axis=0)\n",
    "\n",
    "# Plot the difference image\n",
    "fig, ax = py4DSTEM.visualize.show(diffraction_image_diff,\n",
    "                        clipvals='manual',\n",
    "                        min=np.max(diffraction_pattern_mean_01) * -0.05,\n",
    "                        max=np.max(diffraction_pattern_mean_01) * 0.05,\n",
    "                        returnfig=True)\n",
    "ax.set_xlim(y_range[0], y_range[1]);\n",
    "ax.set_ylim(x_range[1], x_range[0]);"
   ]
  },
  {
   "cell_type": "markdown",
   "id": "38885ce5-851c-4f45-8b9b-0cfa3fc17094",
   "metadata": {},
   "source": [
    "As we can see, even a single pixel shift is **very** obvious in the difference image. \n",
    "\n",
    "It's important to remove any shifts if they are present -for example, a probe template with a diameter of 10 pixels which is shifted 2 pixels during the scan and then averaged will have an apparent diameter of ~12 pixels and a different edge shape (much less steep). This in turn makes the correlation image for Bragg peak detection less accurate.\n",
    "\n",
    "### Build the probe template image\n",
    "\n",
    "Now that we have verified the dataset quality, it's time to construct the probe template. When using a correlation image to detect and locate Bragg peaks, the image (array) origin is always in the upper left corner.  Since a correlation image displays maxima at shifts *relative* to each other (where the image contents agree) we need to be careful about our output coordinates.\n",
    "\n",
    "For example, say we have a probe template centered at index position `[250, 250]`, and we are detecting a Bragg disk in another diffraction image located at `[300, 400]`. If we naively take the 2D correlation of these images, we will observe a maximum at `[50, 150]`. This is because the probe template needs to be shifted `[50, 150]` pixels to *best agree* with the 2nd diffraction image. \n",
    "\n",
    "However, we could intepret the correlation output a lot more easily if the detected Bragg disk were located at pixel `[300, 400]`. We can achieve this outcome in a very simple way - simply move the probe template to the origin pixel at `[0, 0]`. If we then take the correlation of this shifted probe template with the diffraction image containing a Bragg disk centered on `[300, 400]`, the correlation image will also display a maximum value at pixel `[300, 400]`.\n",
    "\n",
    "### Normalization of probe template images\n",
    "\n",
    "We also typically want to normalize the probe template. We do this in two ways - first, we divide the probe template by its total intensity sum, such that it has an intensity sum of 1. This ensures that the correlation output intensity for each Bragg disk is roughly equal to the total integrated intensity inside the disk, generating more interpretable outputs. This is also useful for applying global intensity thresholds to the measured Bragg intensity values.\n",
    "\n",
    "Second, we often wany to reduce the effect of the *local environment* in Bragg disk detection. A Bragg disk located very close to the origin may be sitting on a large background signal, while Bragg disks at high scattering angles may have almost no background present. We want the Bragg disk detection routines to be relatively independent of the local background signal. We usually accomplish this by subtracting a normalization kernel from the probe template which also sums to 1, giving a total intensity sum for the template of zero. We typically choose either a 2D Gaussian distribution, or a 2D sigmoid / logistic function for this normalization kernel, both with in-plane dimensions larger than the probe itself.  The Gaussian distribution produces the smoothest output intensity, but may also introduce errors near other peaks due to the longer tail of the distribution. We use a sigmoid / logistic function typically when we want smaller tails on the normalized probe template. \n",
    "\n",
    "### Masking of probe template images\n",
    "\n",
    "Another consideration is masking off the probe. This is the process of ensuring that pixels far from the probe are set to zero.  The detector noise may only be equal to small values in each pixel, but these signals can add up when considering thousands or even millions of detector pixels. The function:\n",
    "`py4DSTEM.process.diskdetection.get_probe_from_vacuum_4Dscan` both aligns the input images and masks them off, with a default mask size of 12 pixels from the estimate probe edge. This function has several additional tunable parameters, but these will not be examined here.\n",
    "\n",
    "---\n",
    "\n",
    "Lastly, we want to emphasize that Bragg disk detection always requires hyperparameter tuning of some form, including modifying the probe template functions. This is because there is always a tradeoff between the number of false positives measured (seeing Bragg disks that aren't there) and the number of false negatives (missing Bragg peaks which are there). At small enough electron doses / Bragg peak excitation values, there will always be borderline peaks which we must use our judgement in deciding whether to include or not. This *hyperparameter tuning* can be done in a statistically optimal way, but that subject will be covered in another tutorial."
   ]
  },
  {
   "cell_type": "code",
   "execution_count": 12,
   "id": "2047d311-4656-44ed-a427-0fd42c5ddeba",
   "metadata": {},
   "outputs": [
    {
     "name": "stderr",
     "output_type": "stream",
     "text": [
      "100%|███████████████████████████████████████████████████████████████████████████████| 399/399 [00:00<00:00, 418.91it/s]\n"
     ]
    },
    {
     "data": {
      "image/png": "[encoded data removed]",
      "text/plain": [
       "<Figure size 864x432 with 2 Axes>"
      ]
     },
     "metadata": {
      "needs_background": "light"
     },
     "output_type": "display_data"
    },
    {
     "name": "stdout",
     "output_type": "stream",
     "text": [
      "Sum of probe template = 1.000000\n"
     ]
    }
   ],
   "source": [
    "# Mask off the mean vacuum probe image\n",
    "probe_masked_01 = py4DSTEM.process.diskdetection.get_probe_from_vacuum_4Dscan(dataset_01, align=False)\n",
    "\n",
    "# Generate a probe template from the mean diffraction image, without subtracting a normalization kernel\n",
    "probe_kernel_01 = py4DSTEM.process.diskdetection.get_probe_kernel(probe_masked_01)\n",
    "\n",
    "# Plot the probe kernel\n",
    "# -left image shows 1/4 of the periodic probe image out to a radius of 20 px, now centered on [0, 0].\n",
    "# -right plot shows line trace 4 px wide.\n",
    "py4DSTEM.visualize.show_kernel(probe_kernel_01, R=20, L=20, W=4)\n",
    "\n",
    "# Print the sum of the probe template\n",
    "print('Sum of probe template =', '%.6f' % np.sum(probe_kernel_01))"
   ]
  },
  {
   "cell_type": "markdown",
   "id": "9e4a22a8-4389-4133-ab75-ad7bb009ca05",
   "metadata": {},
   "source": [
    "The above probe template is perfectly reasonable to use for Bragg disk detection.  For the sake of completeness, we will now see how to automatically remove image shifts if the STEM probe were scanned around during the recording of this dataset. Note that this will take about 30 seconds, since each diffraction image must be aligned to a single common origin. "
   ]
  },
  {
   "cell_type": "code",
   "execution_count": null,
   "id": "11b11f87-0e33-4996-b271-b7d638a45c42",
   "metadata": {},
   "outputs": [
    {
     "name": "stderr",
     "output_type": "stream",
     "text": [
      " 48%|██████████████████████████████████████▍                                         | 192/399 [00:14<00:15, 13.38it/s]"
     ]
    }
   ],
   "source": [
    "# align the [20 x 20] STEM probe positions to a common origin\n",
    "probe_aligned_01 = py4DSTEM.process.diskdetection.get_probe_from_vacuum_4Dscan(dataset_01)\n",
    "\n",
    "# Generate a probe template from the mean diffraction image after alignment\n",
    "probe_kernel_01 = py4DSTEM.process.diskdetection.get_probe_kernel(probe_aligned_01)\n",
    "\n",
    "# Plot the probe kernel\n",
    "py4DSTEM.visualize.show_kernel(probe_kernel_01, R=20, L=20, W=4)"
   ]
  },
  {
   "cell_type": "markdown",
   "id": "45b8b18e-08cf-4f35-ba51-60f8e51b4517",
   "metadata": {},
   "source": [
    "As we can see, the output is virtually unchanged - no alignment was necessary for this dataset. However, we will need to perform this alignment steps for other examples in this tutorial below.\n",
    "\n",
    "Next, let's make some normalized probe templates by subtacting normalization kernels.  First, let's use a Gaussian distribution with a sigma value (standard deviation) equal to 2 times the estimated probe radius."
   ]
  },
  {
   "cell_type": "code",
   "execution_count": null,
   "id": "8d6bc0eb-ca71-42ec-bf40-bd936203e598",
   "metadata": {},
   "outputs": [],
   "source": [
    "# Mask off the mean vacuum probe image (note we are repeating a previous step)\n",
    "probe_masked_01 = py4DSTEM.process.diskdetection.get_probe_from_vacuum_4Dscan(dataset_01, align=False)\n",
    "\n",
    "# Get the probe radius (and center coordinates)\n",
    "probe_01_radius, probe_01_qx0, probe_01_qy0 = py4DSTEM.process.calibration.get_probe_size(probe_masked_01)\n",
    "\n",
    "# plot the diffraction pattern, with the estimate probe radius overlaid as a circle\n",
    "fig,ax = py4DSTEM.visualize.show_circles(diffraction_pattern_mean_01, (probe_01_qx0, probe_01_qy0), probe_01_radius, returnfig=True)\n",
    "\n",
    "# Print the estimate probe radius\n",
    "print('Estimated probe radius =', '%.2f' % probe_01_radius, 'pixels')\n",
    "\n",
    "# note that we returned the figure and axis handles so that we can zoom in on the probe. \n",
    "# Try commenting out the below commands to see why we do this.\n",
    "ax.set_xlim(230, 270);\n",
    "ax.set_ylim(273, 233);"
   ]
  },
  {
   "cell_type": "code",
   "execution_count": null,
   "id": "c06ec8b1-41db-44d6-bfce-c14b6dde7d4b",
   "metadata": {},
   "outputs": [],
   "source": [
    "# construct a probe template by subtracting a Gaussian normalization kernel, with sigma = probe_01_radius\n",
    "probe_kernel_01 = py4DSTEM.process.diskdetection.get_probe_kernel_edge_gaussian(probe_masked_01, probe_01_radius*1.0)\n",
    "\n",
    "# Plot the probe kernel\n",
    "py4DSTEM.visualize.show_kernel(probe_kernel_01, R=20, L=20, W=4)\n",
    "\n",
    "# Print the sum of the probe template\n",
    "print('Sum of probe template =', '%.6f' % np.sum(probe_kernel_01))"
   ]
  },
  {
   "cell_type": "markdown",
   "id": "2043ea40-b23e-42f3-82a8-33f5d5a03f72",
   "metadata": {},
   "source": [
    "You are likely wondering why the probe looks identical to before, despite the fact that we subtracted a Gaussian normalization function.  We know the probe has indeed been normalized since the sum of all pixels is now 0 rather than 1.  So what is happening here?\n",
    "\n",
    "The normalization kernel is not visible in the above plot because the peak of this kernel is much lower than the peak of the STEM probe. To see it more clearly, we can scale the intensity range of the output image."
   ]
  },
  {
   "cell_type": "code",
   "execution_count": null,
   "id": "045475c2-866c-4ac1-830c-5645e7177b5b",
   "metadata": {},
   "outputs": [],
   "source": [
    "# Get the peak value of the probe template\n",
    "probe_kernel_01_max = np.max(probe_kernel_01)\n",
    "\n",
    "# Set the size of the image plot, starting from the origin pixel (upper left corner)\n",
    "plot_size = 60\n",
    "\n",
    "# Plot the probe template, with the intensity range scaled to +/-2% of the peak value \n",
    "py4DSTEM.visualize.show(probe_kernel_01[0:plot_size,0:plot_size],\n",
    "                        clipvals='manual',\n",
    "                        min=probe_kernel_01_max * -0.02,\n",
    "                        max=probe_kernel_01_max * 0.02)"
   ]
  },
  {
   "cell_type": "markdown",
   "id": "042d4879-36fb-40a9-8d77-7ab70eba033d",
   "metadata": {},
   "source": [
    "Now we can clearly see negative values of the normalization kernel, as well the long tails produced. This template will likely perform fairly well, but may run into issues if we are trying to detect a weak Bragg disk directly adjacent to a much stronger one - the negative tail of normalization kernel combined with a much stronger neighboring Bragg disk will lead to a lower output signal. Note that this effect could be minimized by increasing the sigma value of the normalization kernel to a larger value, but at the cost of a less-localized normalization of the background.\n",
    "\n",
    "An alternative is to normalize the probe with a function that returns to zero over a much more limited distance. We will use an \"s-shaped\" or sigmoid function (one family of sigmoids is the logistic function, which we will use here). More information on sigmoid functions can be found on wikipedia: https://en.wikipedia.org/wiki/Sigmoid_function"
   ]
  },
  {
   "cell_type": "code",
   "execution_count": null,
   "id": "44293d25-7e89-402f-9cf6-fcafe8f1039a",
   "metadata": {},
   "outputs": [],
   "source": [
    "# construct a probe template by subtracting a sigmoid normalization kernel, \n",
    "# with an inner radius equal to 1.0 times the estimated probe radius, and the outer radius equal to 2.0 times the probe radius.\n",
    "probe_kernel_01 = py4DSTEM.process.diskdetection.get_probe_kernel_edge_sigmoid(probe_masked_01, \n",
    "                                                                               probe_01_radius * 1.2,\n",
    "                                                                               probe_01_radius * 2.4)\n",
    "# Plot the probe kernel\n",
    "py4DSTEM.visualize.show_kernel(probe_kernel_01, R=20, L=20, W=4)\n",
    "\n",
    "# Print the sum of the probe template\n",
    "print('Sum of probe template =', '%.6f' % np.sum(probe_kernel_01))"
   ]
  },
  {
   "cell_type": "markdown",
   "id": "6812a572-df04-4f77-9ac4-96dfb7a760a0",
   "metadata": {},
   "source": [
    "This normalization scheme also has the benefit of increasing the edge sensitivity of the probe template. The default sigmoid used is a logistic function, which is relatively smooth, but does have tails which reach to - and + infinite in the radial directions (though the tails do damp out quickly).  For very small semiangle STEM probes, we might want a sigmoid function with limited bandwidth (the tails of the sigmoid end at the specified values). One function that meets these criteria is a squared sinewave over the range 0 to pi/2, which is also included in `py4DSTEM.process.diskdetection.get_probe_kernel_edge_sigmoid`. We switch to this function in the following cell:"
   ]
  },
  {
   "cell_type": "code",
   "execution_count": null,
   "id": "68188678-f861-4f05-bfb5-1465c8d0eb07",
   "metadata": {},
   "outputs": [],
   "source": [
    "# construct a probe template with a sine_squared sigmoid normalization kernel, \n",
    "# with an inner radius equal to 1.0 times the estimated probe radius, and the outer radius equal to 2.0 times the probe radius.\n",
    "probe_kernel_01 = py4DSTEM.process.diskdetection.get_probe_kernel_edge_sigmoid(probe_masked_01, \n",
    "                                                                               probe_01_radius * 1.2,\n",
    "                                                                               probe_01_radius * 2.4,\n",
    "                                                                               type='sine_squared')\n",
    "# Plot the probe kernel\n",
    "py4DSTEM.visualize.show_kernel(probe_kernel_01, R=20, L=20, W=4)\n",
    "\n",
    "# Print the sum of the probe template\n",
    "print('Sum of probe template =', '%.6f' % np.sum(probe_kernel_01))"
   ]
  },
  {
   "cell_type": "markdown",
   "id": "b1acf6ef-4427-4434-a551-704731da4284",
   "metadata": {},
   "source": [
    "The probe template with a sine_squared sigmoid is very similar to the logistic sigmoid, except for how quickly the tails damp out.\n",
    "\n",
    "This concludes part 1. The following sections are considerably less detailed, assuming that we want to use the default values for the probe template construction functions. We will focus instead only on the new concepts and functions needed for the other 3 use cases."
   ]
  },
  {
   "cell_type": "markdown",
   "id": "c5bd3761-cbb3-4fb4-8e4d-4c22211939c1",
   "metadata": {},
   "source": [
    "---\n",
    "# Part 2 - Building a probe template from a vacuum region of an experimental scan <a class=\"anchor\" id=\"part_02\"></a>\n",
    "---\n",
    "Sometimes we forget to record a vacuum dataset of the STEM probe. However, for many experiments, we can produce a probe template just as good as a vacuum scan. We can do this when one of our experimental datasets include probe positions measured over vacuum, such as the edge of a wedge or localized holes in the sample. In this part, we will load just such a dataset and use it to contruct a probe template."
   ]
  },
  {
   "cell_type": "code",
   "execution_count": null,
   "id": "9a7d2f1c-433b-4b67-83b2-14ee40874edd",
   "metadata": {},
   "outputs": [],
   "source": [
    "# Load example 2, a 40 x 40 scan containing the edge of a sample\n",
    "dataset_02 = py4DSTEM.io.read(file_path_example_02)\n",
    "\n",
    "# Display the size of the dataset\n",
    "print(dataset_02.data.shape)"
   ]
  },
  {
   "cell_type": "code",
   "execution_count": null,
   "id": "4e4f7e8c-1c0a-45cc-97e0-3e6a6abc4277",
   "metadata": {},
   "outputs": [],
   "source": [
    "# As in the previous example, we will reshape the scan size from [1600 x 1] to [40 x 40]\n",
    "dataset_02.set_scan_shape(40, 40)\n",
    "print(dataset_02.data.shape)"
   ]
  },
  {
   "cell_type": "code",
   "execution_count": null,
   "id": "5d2bdacf-1db9-4116-9be1-dbf311251cad",
   "metadata": {},
   "outputs": [],
   "source": [
    "# Plot the mean diffraction pattern for example 2\n",
    "diffraction_pattern_mean_02 = np.mean(dataset_02.data, axis=(0,1))\n",
    "py4DSTEM.visualize.show(diffraction_pattern_mean_02)"
   ]
  },
  {
   "cell_type": "markdown",
   "id": "00c62aa0-4005-4cb6-b34c-8d2106db2c6a",
   "metadata": {},
   "source": [
    "Very interesting!  This probe consists of a patterned *bullseye* aperture, which is used to enhance the precision of Bragg disk position measurements. If you would you like to learn more about Bullseye apertures, we have published a paper describing them here:\n",
    "https://doi.org/10.1016/j.ultramic.2019.112890\n",
    " \n",
    "Note that these apertures are also available free of charge to anyone who wants one - just email me at <clophus@lbl.gov>.\n",
    "\n",
    "We can also clearly see that some Bragg scattering has occured, with several additional Bragg peaks visible."
   ]
  },
  {
   "cell_type": "code",
   "execution_count": null,
   "id": "fc08f083-77f7-4c7c-997a-ee77092f6bd1",
   "metadata": {},
   "outputs": [],
   "source": [
    "# Lets zoom in on center beam (which we assume is the brightest disk visible)\n",
    "fig, ax = py4DSTEM.visualize.show(diffraction_pattern_mean_02, \n",
    "                                 returnfig=True)\n",
    "ax.set_xlim(220, 300);\n",
    "ax.set_ylim(320, 240);"
   ]
  },
  {
   "cell_type": "code",
   "execution_count": null,
   "id": "eac7260f-8548-491e-8674-2aa7915c73c2",
   "metadata": {},
   "outputs": [],
   "source": [
    "# Let's find the center beam position and estimate the radius"
   ]
  },
  {
   "cell_type": "code",
   "execution_count": null,
   "id": "6877821d-b462-450d-bb1c-eb67eca97a40",
   "metadata": {},
   "outputs": [],
   "source": [
    "# Get the probe radius and center coordinates.  \n",
    "# Note that as currently written, we will need to first apply Gaussian blur to the diffraction pattern image for this to work.\n",
    "diffraction_pattern_blur_02 = gaussian_filter(diffraction_pattern_mean_02, sigma=5)\n",
    "probe_02_radius, probe_02_qx0, probe_02_qy0 = py4DSTEM.process.calibration.get_probe_size(diffraction_pattern_blur_02,                                                                                      thresh_upper=0.6)\n",
    "\n",
    "# plot the diffraction pattern, with the estimate probe radius overlaid as a circle\n",
    "fig, ax = py4DSTEM.visualize.show_circles(diffraction_pattern_mean_02, (probe_02_qx0, probe_02_qy0), probe_02_radius, returnfig=True)\n",
    "ax.set_xlim(220, 300);\n",
    "ax.set_ylim(320, 240);\n",
    "\n",
    "# Print the estimate probe radius\n",
    "print('Estimated probe radius =', '%.2f' % probe_02_radius, 'pixels')"
   ]
  },
  {
   "cell_type": "code",
   "execution_count": null,
   "id": "a01eef89-e3af-4e10-a3df-380c0c7632bf",
   "metadata": {},
   "outputs": [],
   "source": [
    "# Next, create a bright field (BF) virtual detector using the the center beam position, and expanding the radius slightly (3 px).\n",
    "image_BF_02 = py4DSTEM.process.virtualimage.get_virtualimage_circ(dataset_02, probe_02_qx0, probe_02_qy0, probe_02_radius + 3.0)\n",
    "\n",
    "# Show the BF image\n",
    "py4DSTEM.visualize.show(image_BF_02)"
   ]
  },
  {
   "cell_type": "markdown",
   "id": "fd6ff26f-2972-42e9-845e-5075f1d3638c",
   "metadata": {},
   "source": [
    "The left edge of this dataset shows a missing column of data, and there are a few wraparound / streaking artifacts. However, the upper left corner clearly shows a nearly flat white region, which corresponds to the edge of the sample. Remember that in a BF image, we are imaging the unscattered electrons which are still in the center Bragg disk - the signal should be maximized over vacuum. The darker region of this BF image corresponds to the sample, where most of the electrons have been scattered to higher angles - they are outside of our virtual detector.\n",
    "\n",
    "So, our goal is to construct the vacuum template from only those probe positions which are far fro mthe sample edge. Note that our STEM probe was scanning over the sample during this experiment, and so we must be sure to align all of the diffraction patterns to a common origin. We will use a different probe construction function, `py4DSTEM.process.diskdetection.get_probe_from_4Dscan_ROI`."
   ]
  },
  {
   "cell_type": "code",
   "execution_count": null,
   "id": "412cd79c-d640-4c7d-969b-2933b7f006bb",
   "metadata": {},
   "outputs": [],
   "source": [
    "# First, let's transform that bright field image into a region of interest (ROI).\n",
    "# In this case, our ROI is defined as a boolean array where True pixel values are the probe positions we will average.\n",
    "# We will start with a threshold of 50% of the max bright field value\n",
    "image_mask_02 = image_BF_02 > (np.max(image_BF_02)*0.5)\n",
    "\n",
    "# We will also remove the boundary pixels from the mask to ensure we are far from the sample edge.\n",
    "image_mask_02 = binary_erosion(image_mask_02, iterations=1)\n",
    "\n",
    "# Show the masked BF image\n",
    "py4DSTEM.visualize.show(image_mask_02)"
   ]
  },
  {
   "cell_type": "code",
   "execution_count": null,
   "id": "25e140d3-6150-4563-b470-7abb5436176e",
   "metadata": {},
   "outputs": [],
   "source": [
    "# Next, average all of the probe positions defined in this ROI mask\n",
    "probe_aligned_02 = py4DSTEM.process.diskdetection.get_probe_from_4Dscan_ROI(dataset_02, image_mask_02, align=True)\n",
    "\n",
    "# plot the output probe\n",
    "fig, ax = py4DSTEM.visualize.show(probe_aligned_02, \n",
    "                                 returnfig=True)\n",
    "ax.set_xlim(220, 300);\n",
    "ax.set_ylim(320, 240);"
   ]
  },
  {
   "cell_type": "code",
   "execution_count": null,
   "id": "209c87e3-c076-4750-ad3c-8e15f74987da",
   "metadata": {},
   "outputs": [],
   "source": [
    "# The aligned probe image from the vacuum positions looks sharp and clear. Let's compare it to the mean probe position.\n",
    "fig, ax = py4DSTEM.visualize.show_image_grid(\n",
    "    lambda i:[diffraction_pattern_mean_02,probe_aligned_02][i],\n",
    "    H=1,\n",
    "    W=2,\n",
    "    axsize=(5,5),\n",
    "    returnfig=True)\n",
    "ax[0,0].set_xlim(220, 300);\n",
    "ax[0,0].set_ylim(320, 240);\n",
    "ax[0,1].set_xlim(220, 300);\n",
    "ax[0,1].set_ylim(320, 240);"
   ]
  },
  {
   "cell_type": "markdown",
   "id": "022c458c-9d72-460a-ae55-7e26189590f2",
   "metadata": {},
   "source": [
    "The mean probe image is noticably sharper after aligning the individual images, even over the small scan region of the ROI. This is because the STEM probe de-scan is never perfectly aligned. Scans over very large sample regions can lead to very large probe shifts. "
   ]
  },
  {
   "cell_type": "code",
   "execution_count": null,
   "id": "3715c7e5-fb9c-43ea-96d8-685c273113f8",
   "metadata": {},
   "outputs": [],
   "source": [
    "# The final step is to normalize the STEM probe and shift it to the origin\n",
    "probe_kernel_02 = py4DSTEM.process.diskdetection.get_probe_kernel_edge_sigmoid(probe_aligned_02, \n",
    "                                                                               probe_02_radius * 1.5,\n",
    "                                                                               probe_02_radius * 2.5,)\n",
    "# Plot the probe kernel\n",
    "py4DSTEM.visualize.show_kernel(probe_kernel_02, R=60, L=60, W=2)"
   ]
  },
  {
   "cell_type": "code",
   "execution_count": null,
   "id": "c84140bd-67d3-410b-af0c-700d61f1fdf2",
   "metadata": {},
   "outputs": [],
   "source": [
    "# Let's try this probe template out on the sample region, at 3 probe positions:\n",
    "rxs = 15,25,35\n",
    "rys = 15,25,35\n",
    "colors=['r','c','g']\n",
    "\n",
    "dp1 = dataset_02.data[rxs[0],rys[0],:,:]\n",
    "dp2 = dataset_02.data[rxs[1],rys[1],:,:]\n",
    "dp3 = dataset_02.data[rxs[2],rys[2],:,:]\n",
    "\n",
    "# Run the disk detection on the selected DPs\n",
    "corrPower=1\n",
    "sigma=0\n",
    "edgeBoundary=32\n",
    "minRelativeIntensity=0.002\n",
    "relativeToPeak=0\n",
    "minPeakSpacing=30\n",
    "maxNumPeaks=100\n",
    "subpixel='multicorr'\n",
    "upsample_factor=16\n",
    "\n",
    "disks_selected = py4DSTEM.process.diskdetection.find_Bragg_disks_selected(\n",
    "    dataset_02,\n",
    "    probe_kernel_02,\n",
    "    rxs,\n",
    "    rys,\n",
    "    corrPower=corrPower,\n",
    "    sigma=sigma,edgeBoundary=edgeBoundary,\n",
    "    minRelativeIntensity=minRelativeIntensity,\n",
    "    relativeToPeak=relativeToPeak,\n",
    "    minPeakSpacing=minPeakSpacing,maxNumPeaks=maxNumPeaks,\n",
    "    subpixel=subpixel,\n",
    "    upsample_factor=upsample_factor)\n",
    "\n",
    "py4DSTEM.visualize.show_image_grid(lambda i:[dp1,dp2,dp3][i],H=1,W=3,axsize=(5,5),\n",
    "                                   scaling='power',\n",
    "                                   power=0.25,\n",
    "                                   get_bordercolor=lambda i:colors[i],\n",
    "                                   get_x=lambda i:disks_selected[i].data['qx'],\n",
    "                                   get_y=lambda i:disks_selected[i].data['qy'],\n",
    "#                                    get_s=lambda i:disks_selected[i].data['intensity'],  \n",
    "                                   get_pointcolors=lambda i:colors[i])"
   ]
  },
  {
   "cell_type": "markdown",
   "id": "23ec0db8-4b1b-4305-bc74-ce98146fc33f",
   "metadata": {},
   "source": [
    "---\n",
    "# Part 3 - Building a probe template from thin regions of a sample <a class=\"anchor\" id=\"part_03\"></a>\n",
    "---\n",
    "What do we do if we have no vacuum scan of our probe, and none of our experiments have vacuum regions? \n",
    "\n",
    "The next best option is to find the thinnest possible region of an experiment dataset, and average the probes in that ROI. Let's do it!"
   ]
  },
  {
   "cell_type": "code",
   "execution_count": null,
   "id": "40186ff5-998f-4373-bff8-3d88aa7069b9",
   "metadata": {},
   "outputs": [],
   "source": [
    "# Load example 3, a 20 x 20 scan of a nanoparticle\n",
    "dataset_03 = py4DSTEM.io.read(file_path_example_03)\n",
    "\n",
    "# Display the size of the dataset\n",
    "print(dataset_03.data.shape)"
   ]
  },
  {
   "cell_type": "code",
   "execution_count": null,
   "id": "de4c968f-10d2-40e3-9437-d508e4dfedd7",
   "metadata": {},
   "outputs": [],
   "source": [
    "# Reshape the scan size from [400 x 1] to [20 x 20]\n",
    "dataset_03.set_scan_shape(20, 20)\n",
    "print(dataset_03.data.shape)"
   ]
  },
  {
   "cell_type": "code",
   "execution_count": null,
   "id": "73b7d5f8-c069-414a-b5d8-7703c62f5c7e",
   "metadata": {},
   "outputs": [],
   "source": [
    "# Get the mean diffraction pattern for example 3\n",
    "diffraction_pattern_mean_03 = np.mean(dataset_03.data, axis=(0,1))\n",
    "\n",
    "# Estimate probe position and radius\n",
    "probe_03_radius, probe_03_qx0, probe_03_qy0 = py4DSTEM.process.calibration.get_probe_size(diffraction_pattern_mean_03)\n",
    "\n",
    "# plot the diffraction pattern, zoomed in, with the estimate probe radius overlaid as a circle\n",
    "fig, ax = py4DSTEM.visualize.show_circles(diffraction_pattern_mean_03, (probe_03_qx0, probe_03_qy0), probe_03_radius, returnfig=True)\n",
    "ax.set_xlim(220, 300);\n",
    "ax.set_ylim(295, 215);\n",
    "\n",
    "# Print the estimate probe radius\n",
    "print('Estimated probe radius =', '%.2f' % probe_03_radius, 'pixels')"
   ]
  },
  {
   "cell_type": "code",
   "execution_count": null,
   "id": "4abf5d52-1518-46b3-8be2-d72a241041db",
   "metadata": {},
   "outputs": [],
   "source": [
    "# Similarly to the previous exxample, create a bright field (BF) virtual detector image\n",
    "image_BF_03 = py4DSTEM.process.virtualimage.get_virtualimage_circ(dataset_03, probe_03_qx0, probe_03_qy0, probe_03_radius + 4.0)\n",
    "\n",
    "# Show the BF image\n",
    "py4DSTEM.visualize.show(image_BF_03)"
   ]
  },
  {
   "cell_type": "markdown",
   "id": "ffa3f9a3-7c44-4700-8858-2aad33e8f541",
   "metadata": {},
   "source": [
    "Let's compare diffraction patterns measured both from the substrate and from the nanoparticle.  Note that even for patterns that display no crystalline Bragg diffracted disks, low angle scattering due to the substrate is still present."
   ]
  },
  {
   "cell_type": "code",
   "execution_count": null,
   "id": "7e6f9093-540f-4efa-a490-03b41d295e7a",
   "metadata": {},
   "outputs": [],
   "source": [
    "# plot 3 diffraction images, moving from the substrate to the nanoparticle.\n",
    "rxs = 11,11,11\n",
    "rys = 2,5,8\n",
    "\n",
    "im1 = dataset_03.data[rxs[0],rys[0],:,:]\n",
    "im2 = dataset_03.data[rxs[1],rys[1],:,:]\n",
    "im3 = dataset_03.data[rxs[2],rys[2],:,:]\n",
    "\n",
    "# Plot the images with intensities scaled from 0 to 200\n",
    "fig, ax = py4DSTEM.visualize.show_image_grid(\n",
    "    lambda i:[im1,im2,im3][i],\n",
    "    H=1,\n",
    "    W=4,\n",
    "    clipvals='manual',\n",
    "    scaling='log',\n",
    "    min=0,\n",
    "    max=6,\n",
    "    axsize=(5,5),\n",
    "    returnfig=True)"
   ]
  },
  {
   "cell_type": "markdown",
   "id": "627f97f5-5409-4245-b10a-a909f479debf",
   "metadata": {},
   "source": [
    "We will use exactly the same procedure as the previous section to construct a probe template."
   ]
  },
  {
   "cell_type": "code",
   "execution_count": null,
   "id": "33aee102-4793-41ed-9404-5aea54d261b7",
   "metadata": {},
   "outputs": [],
   "source": [
    "# We will transform the BF image into an ROI, thresholding at 90% of the max intensity (higher than the previous example)\n",
    "image_mask_03 = image_BF_03 > (np.max(image_BF_03)*0.9)\n",
    "\n",
    "# Remove the boundary pixels from the mask to ensure we are far from the sample edge.\n",
    "image_mask_03 = binary_erosion(image_mask_03, iterations=1)\n",
    "\n",
    "# Show the masked BF image right beside the BF image\n",
    "py4DSTEM.visualize.show_image_grid(\n",
    "    lambda i:[image_BF_03,image_mask_03][i],\n",
    "    H=1,\n",
    "    W=2,\n",
    "    axsize=(5,5))"
   ]
  },
  {
   "cell_type": "code",
   "execution_count": null,
   "id": "2a4379ac-73c3-4a50-95ed-a094e8055e25",
   "metadata": {},
   "outputs": [],
   "source": [
    "# Next, average all of the probe positions defined in this ROI mask\n",
    "probe_aligned_03 = py4DSTEM.process.diskdetection.get_probe_from_4Dscan_ROI(dataset_03, image_mask_03, align=True)\n",
    "\n",
    "# plot the output probe\n",
    "fig, ax = py4DSTEM.visualize.show(probe_aligned_03, \n",
    "                                 returnfig=True)\n",
    "ax.set_xlim(220, 300);\n",
    "ax.set_ylim(295, 215);"
   ]
  },
  {
   "cell_type": "code",
   "execution_count": null,
   "id": "99170d4d-3b92-4c27-a884-80b3fab0a4b2",
   "metadata": {},
   "outputs": [],
   "source": [
    "# Again the final step is to normalize the STEM probe and shift it to the origin\n",
    "probe_kernel_03 = py4DSTEM.process.diskdetection.get_probe_kernel_edge_sigmoid(probe_aligned_03, \n",
    "                                                                               probe_03_radius * 1.0,\n",
    "                                                                               probe_03_radius * 2.0,)\n",
    "# Plot the probe kernel\n",
    "py4DSTEM.visualize.show_kernel(probe_kernel_03, R=40, L=40, W=2)"
   ]
  },
  {
   "cell_type": "markdown",
   "id": "cc140ab4-5d78-4cbf-ab1d-ebe06fd9528e",
   "metadata": {},
   "source": [
    "---\n",
    "# Part 4 - Generating a synthetic probe template <a class=\"anchor\" id=\"part_04\"></a>\n",
    "---\n",
    "For the final part, we consider a case where we do not have a vacuum scan, or a thin enough region of the sample to construct the vacuum template.  This situation is also possible when our experimental sample is so thick that the Bragg disks no longer resemble the vacuum probe image.\n",
    "\n",
    "In this case, we simply define an analyic probe function. In the experimental dataset we use in this part, the sample is equal thickness everywhere."
   ]
  },
  {
   "cell_type": "code",
   "execution_count": null,
   "id": "e2935428-6bef-4677-a46f-6d15f3809518",
   "metadata": {},
   "outputs": [],
   "source": [
    "# The part 4 dataset is already in py4DSTEM h5 format. We can check the contents of this file like so\n",
    "py4DSTEM.io.read(file_path_example_04)"
   ]
  },
  {
   "cell_type": "code",
   "execution_count": null,
   "id": "366f8597-fe1d-477b-b39f-943e07d087a3",
   "metadata": {},
   "outputs": [],
   "source": [
    "# Load the datacube, a [10, 25, 448, 480] shaped datacube\n",
    "dataset_04 = py4DSTEM.io.read(file_path_example_04, data_id='datacube')"
   ]
  },
  {
   "cell_type": "code",
   "execution_count": null,
   "id": "c0342e78-0d46-415b-8505-6f31a93763f0",
   "metadata": {},
   "outputs": [],
   "source": [
    "# Mean diffraction image\n",
    "diffraction_pattern_mean_04 = np.mean(dataset_04.data, axis=(0,1))\n",
    "\n",
    "# Plot the mean diffraction image, and one representative image\n",
    "py4DSTEM.visualize.show_image_grid(\n",
    "    lambda i:[diffraction_pattern_mean_04,dataset_04.data[5,5,:,:]][i],\n",
    "    H=1,\n",
    "    W=2,\n",
    "    axsize=(8,8))"
   ]
  },
  {
   "cell_type": "markdown",
   "id": "283d165e-9ca6-4623-8b7f-21b0b0850137",
   "metadata": {},
   "source": [
    "This sample is sufficiently thick that it is not immediately obvious which Bragg disk is the zero beam. The individual image shows just how weak the diffracted beams are in this dataset."
   ]
  },
  {
   "cell_type": "code",
   "execution_count": null,
   "id": "414ed350-a95d-4d46-983d-77dac3a5f3ca",
   "metadata": {},
   "outputs": [],
   "source": [
    "# Zoom in on the center of the mean diffraction image\n",
    "fix, ax = py4DSTEM.visualize.show(diffraction_pattern_mean_04,\n",
    "                       returnfig=True)\n",
    "ax.set_xlim(80, 310);\n",
    "ax.set_ylim(280, 150);"
   ]
  },
  {
   "cell_type": "markdown",
   "id": "989e6c51-dbdd-4b1b-aa97-2f374553263b",
   "metadata": {},
   "source": [
    "At this point, we could crop around one of these center beams and generate a vacuum template by averaging the images. However, we will instead use the synthetic probe generation function `py4DSTEM.process.diskdetection.get_probe_synthetic`, and compare it to the brightest Bragg disk on the left."
   ]
  },
  {
   "cell_type": "code",
   "execution_count": null,
   "id": "f84325c8-d17c-477f-a0ce-91b9d63db089",
   "metadata": {},
   "outputs": [],
   "source": [
    "# Dimensions of the synthetic probe\n",
    "probe_radius_04 = 6\n",
    "probe_width_04 = 4\n",
    "\n",
    "# Make the synthetic probe function\n",
    "probe_synthetic_04 = py4DSTEM.process.diskdetection.get_probe_synthetic(probe_radius_04, \n",
    "                                                                        probe_width_04, \n",
    "                                                                        dataset_04.Q_Nx, \n",
    "                                                                        dataset_04.Q_Ny)\n",
    "\n",
    "# Subtract the normalization template, using a sine_squared kernel to localize the template\n",
    "probe_kernel_04 = py4DSTEM.process.diskdetection.get_probe_kernel_edge_sigmoid(probe_synthetic_04, \n",
    "                                                                               probe_radius_04 * 1.0,\n",
    "                                                                               probe_radius_04 * 3.0,\n",
    "                                                                               type='sine_squared')\n",
    "\n",
    "\n",
    "# Plot the probe kernel\n",
    "py4DSTEM.visualize.show_kernel(probe_kernel_04, R=20, L=20, W=2)\n",
    "\n",
    "# plot mean experimental dark field image for comparison\n",
    "fig, ax = py4DSTEM.visualize.show(diffraction_pattern_mean_04,\n",
    "                       returnfig=True)\n",
    "ax.set_xlim((130, 155));\n",
    "ax.set_ylim((229, 219));\n"
   ]
  },
  {
   "cell_type": "markdown",
   "id": "7b1ac41b-87e4-4105-922a-d4882d880c22",
   "metadata": {},
   "source": [
    "We should note that with such noisy images, it is not essential to precisely match the synthetic probe template dimensions.\n",
    "\n",
    "For synthetic templates, the proof is in the pudding - a template is only as good as the accuracy of the detected disk positions. Let's give it a try!"
   ]
  },
  {
   "cell_type": "code",
   "execution_count": null,
   "id": "2df52b38-c081-4ff4-86dc-fa9a8adfd764",
   "metadata": {},
   "outputs": [],
   "source": [
    "# Let's try this probe template out on the sample region, at 3 probe positions:\n",
    "rxs = 5,5,5\n",
    "rys = 10,15,20\n",
    "colors=['r','c','g']\n",
    "\n",
    "dp1 = dataset_04.data[rxs[0],rys[0],:,:]\n",
    "dp2 = dataset_04.data[rxs[1],rys[1],:,:]\n",
    "dp3 = dataset_04.data[rxs[2],rys[2],:,:]\n",
    "\n",
    "# Run the disk detection on the selected DPs\n",
    "corrPower=1\n",
    "sigma=0\n",
    "edgeBoundary=32\n",
    "minRelativeIntensity=0.1\n",
    "relativeToPeak=0\n",
    "minPeakSpacing=30\n",
    "maxNumPeaks=100\n",
    "subpixel='multicorr'\n",
    "upsample_factor=16\n",
    "\n",
    "disks_selected = py4DSTEM.process.diskdetection.find_Bragg_disks_selected(\n",
    "    dataset_04,\n",
    "    probe_kernel_04,\n",
    "    rxs,\n",
    "    rys,\n",
    "    corrPower=corrPower,\n",
    "    sigma=sigma,edgeBoundary=edgeBoundary,\n",
    "    minRelativeIntensity=minRelativeIntensity,\n",
    "    relativeToPeak=relativeToPeak,\n",
    "    minPeakSpacing=minPeakSpacing,maxNumPeaks=maxNumPeaks,\n",
    "    subpixel=subpixel,\n",
    "    upsample_factor=upsample_factor)\n",
    "\n",
    "py4DSTEM.visualize.show_image_grid(lambda i:[dp1,dp2,dp3][i],H=1,W=3,axsize=(5,5),\n",
    "                                   scaling='power',\n",
    "                                   power=0.25,\n",
    "                                   get_bordercolor=lambda i:colors[i],\n",
    "                                   get_x=lambda i:disks_selected[i].data['qx'],\n",
    "                                   get_y=lambda i:disks_selected[i].data['qy'],\n",
    "                                   get_s=lambda i:disks_selected[i].data['intensity'],  \n",
    "                                   get_pointcolors=lambda i:colors[i])"
   ]
  },
  {
   "cell_type": "markdown",
   "id": "d1caa1ef-f2fe-4987-839f-3d388808dde7",
   "metadata": {},
   "source": [
    "Success! Note that all of the detected peaks seem to follow on a clear crystalline lattice. \n",
    "\n",
    "For the actual data processing, I would suggest lowering the threshold to capture as many peaks as possible. When measuring strain or orientation, we can weight the outputs based on the peak intensities. Thus, weak peaks that may be false positives are usually not catastrophic for the data processing. "
   ]
  },
  {
   "cell_type": "code",
   "execution_count": null,
   "id": "e82e3a3d-728e-4f53-92b0-8d10ff1e35bb",
   "metadata": {},
   "outputs": [],
   "source": []
  }
 ],
 "metadata": {
  "kernelspec": {
   "display_name": "Python 3",
   "language": "python",
   "name": "python3"
  },
  "language_info": {
   "codemirror_mode": {
    "name": "ipython",
    "version": 3
   },
   "file_extension": ".py",
   "mimetype": "text/x-python",
   "name": "python",
   "nbconvert_exporter": "python",
   "pygments_lexer": "ipython3",
   "version": "3.7.0"
  }
 },
 "nbformat": 4,
 "nbformat_minor": 5
}
