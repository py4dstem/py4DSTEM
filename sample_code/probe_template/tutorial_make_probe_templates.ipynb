{
 "cells": [
  {
   "cell_type": "markdown",
   "id": "c54d5e2c-cd25-438f-a662-57347fb5114a",
   "metadata": {},
   "source": [
    "# py4DSTEM Tutorial - Constructing Probe Templates\n",
    "---\n",
    "\n",
    "### Table of Contents\n",
    "\n",
    "* [Part 0 - Download the datasets.](#part_00)\n",
    "* [Part 1 - Probe template from vacuum scan.](#part_01)\n",
    "* [Part 2 - Probe template from vaccum region of an experiment.](#part_02)\n",
    "* [Part 3 - Probe template from thin region of an experiment.](#part_03)\n",
    "* [Part 4 - Synthetic probe template.](#part_04)\n",
    "\n",
    "\n",
    "### Introduction\n",
    "\n",
    "This is a tutorial notebook for constructing STEM probe template images. The goal is to measure or approximate the image of a STEM probe in vacuum (i.e. no scattering from a sample), and shift it to the origin. These \"probe templates\" can be used for:\n",
    "1. Bragg disk detection using correlation.\n",
    "2. Bragg disk detection using machine learning networks.\n",
    "3. Calibration of the probe semiangle, ellipticity, or other probe geometric parameters.\n",
    "4. Inital probe intensity distribution for ptychographic reconstructions.\n",
    "\n",
    "There are 4 methods of constructing a probe template covered in this tutorial.  In order from best to worst, they are:\n",
    "1. Immediately after completing on or more 4D-STEM experiments: Move the sample out of the way, and record of a series of images of the STEM probe under the exact same imaging conditions, with no scanning.\n",
    "2. Average a subset of images from an experimental dataset, where the probe passes through vacuum.\n",
    "3. Average a subset of images from an experimental dataset, where the probe passes though the thinnest posisble region of the sample.\n",
    "4. Construct a synthetic probe image.\n",
    "\n",
    "These 4 methods in order correspond to the 4 parts of this tutorial.\n",
    "\n",
    "### Acknowledgements\n",
    "\n",
    "This tutorial was written by Colin Ophus (cophus@gmail.com).\n",
    "The 4D-STEM datasets used here were collected by:\n",
    "1. Clarissa Bhargava\n",
    "2. Sean Mills\n",
    "3. Karen Bustillo\n",
    "4. Shiteng Zhao\n",
    "\n",
    "### Version\n",
    "Last updated on 2021-06-01 with py4DSTEM version 0.12.0."
   ]
  },
  {
   "cell_type": "markdown",
   "id": "9f9c4de7-0b0d-4fcc-bc72-b834b2e063e4",
   "metadata": {},
   "source": [
    "# Download the datasets used in this tutorial <a class=\"anchor\" id=\"part_00\"></a>\n",
    "\n",
    "You can download the 4 tutorial datasets here: \n",
    "1. [part 1](https://drive.google.com/file/d/1QTcSKzZjHZd1fDimSI_q9_WsAU25NIXe/view?usp=sharing)\n",
    "2. [part 2](https://drive.google.com/file/d/1iBSANFQT9eacpn7aAE6PmFdIRYQxenGg/view?usp=sharing)\n",
    "3. [part 3](https://drive.google.com/file/d/1p9GaV0k628_afbdqFW62rHObcjQ09qyl/view?usp=sharing)\n",
    "4. [part 4](https://drive.google.com/file/d/1sUrPEgM1wWyTh-LJ30lGUhcXklHj6ajC/view?usp=sharing). \n",
    "\n",
    "Once you have downloaded all 4, uppdate the variables `file_path_example_##` in the next cell to reflect that path to the file."
   ]
  },
  {
   "cell_type": "code",
   "execution_count": 27,
   "id": "0b437983-0f73-49ef-965f-db0f5ce58eef",
   "metadata": {},
   "outputs": [],
   "source": [
    "# Set the file paths for the input datasets.\n",
    "# The location of these files may be different, depending on your operating system and browser download path.\n",
    "# If you are running this tutorial on Binder, you do not need to change these paths.\n",
    "file_path_example_01 = 'c:/data/vacuum_probe_20x20.dm4'\n",
    "file_path_example_02 = 'c:/data/bullseye_probe_scan_edge.dm4'\n",
    "file_path_example_03 = 'c:/data/NiPt_nanoparticle_20x20.dm3'\n",
    "file_path_example_04 = 'c:/data/twinBoundary_ShitengZhao20190115MEA.h5'"
   ]
  },
  {
   "cell_type": "code",
   "execution_count": 185,
   "id": "38e63a79-66f7-4fb1-8e1f-745908b8a9f7",
   "metadata": {},
   "outputs": [],
   "source": [
    "%load_ext autoreload\n",
    "%autoreload 2"
   ]
  },
  {
   "cell_type": "code",
   "execution_count": 186,
   "id": "a19885f1-7491-450b-bd43-09102c27ff94",
   "metadata": {},
   "outputs": [],
   "source": [
    "# Initialization - import the needed packages (for this tutorial, you only need py4DSTEM and numpy for basic operations)\n",
    "import py4DSTEM\n",
    "import numpy as np"
   ]
  },
  {
   "cell_type": "markdown",
   "id": "cb25410a-5606-4060-b292-129d6280d9f4",
   "metadata": {},
   "source": [
    "---\n",
    "## Part 1 - Building a probe template from a vacuum scan <a class=\"anchor\" id=\"part_01\"></a>\n",
    "---\n",
    "The ideal method to construct a probe template image is to measure it directly on the microscope.  Here are some best practices:\n",
    "1. Record the vacuum scan immediately after you have finished your experiments (or before).\n",
    "2. **Keep the microscope settings identical to the experiments**, except in the case of a beamstop.  If you are using a beamstop, you can spread the beam above the condenser aperture to reduce the brightness, and then move the beamstop out of the way before recording the vacuum scan.\n",
    "3. Record more than one image. Remember that even in vacuum, your measurement is affected by Poisson shot noise (limited electron counts) and detector readout noise.\n",
    "4. Do not scan the beam while recording the vacuum template. We can easily remove the shifts of the beam center position due to STEM coil de-scan, but this is not necessary if you do not move the probe."
   ]
  },
  {
   "cell_type": "code",
   "execution_count": 29,
   "id": "b2452a5c-1fe8-4194-88e8-2f7b22eddb31",
   "metadata": {},
   "outputs": [
    {
     "name": "stdout",
     "output_type": "stream",
     "text": [
      "(400, 1, 512, 512)\n"
     ]
    }
   ],
   "source": [
    "# Load example 1, a 20 x 20 scan where the probe does not move and no sample is present.  Display the size of the dataset\n",
    "dataset_01 = py4DSTEM.io.read(file_path_example_01)\n",
    "print(dataset_01.data.shape)"
   ]
  },
  {
   "cell_type": "markdown",
   "id": "c14459ba-e4fb-4f0f-84ab-d8818840ea1e",
   "metadata": {},
   "source": [
    "We see the dataset size is `[400 x 1]` probe positions, composed of CBED images each having a size of `[512 x 512]` pixels.\n",
    "\n",
    "The data is 3D rather than 4D because this data was recorded as a \"time series\" with a custom dm3 recording script on our Titan.\n",
    "\n",
    "For this example, we don't technically need to reshape the dimensions of this array to be `[20 x 20 x 512 x 512]`, but it's a good habit and will be useful for the other examples in this tutorial."
   ]
  },
  {
   "cell_type": "code",
   "execution_count": 30,
   "id": "b537ef98-0b6d-46ac-a07e-7dc08b5bd45f",
   "metadata": {},
   "outputs": [
    {
     "name": "stdout",
     "output_type": "stream",
     "text": [
      "(20, 20, 512, 512)\n"
     ]
    }
   ],
   "source": [
    "# Reshape the scan size from [400 x 1] to [20 x 20]\n",
    "dataset_01.set_scan_shape(20, 20)\n",
    "print(dataset_01.data.shape)"
   ]
  },
  {
   "cell_type": "code",
   "execution_count": 42,
   "id": "ec32d50f-75e4-44ef-8229-7e90909b9902",
   "metadata": {},
   "outputs": [
    {
     "data": {
      "image/png": "[encoded data removed]",
      "text/plain": [
       "<Figure size 576x576 with 1 Axes>"
      ]
     },
     "metadata": {
      "needs_background": "light"
     },
     "output_type": "display_data"
    }
   ],
   "source": [
    "# Let's examine the diffraction pattern data by looking at the mean CBED image.\n",
    "diffraction_pattern_mean = np.mean(dataset_01.data, axis=(0,1))\n",
    "py4DSTEM.visualize.show(diffraction_pattern_mean)"
   ]
  },
  {
   "cell_type": "markdown",
   "id": "08c2a981-82ba-4d60-9409-0787033c9796",
   "metadata": {},
   "source": [
    "The above image looks like it should - An isolated probe near the center of the field of view, with a circular shape given by the condenser aperture used. However, you will now learn how to closely inspect this data to verify a few facts:\n",
    "1. The probe is really in vacuum\n",
    "2. The STEM beam was not scanned while this data was recorded."
   ]
  },
  {
   "cell_type": "code",
   "execution_count": 84,
   "id": "58d32c9b-f5d3-4bae-99f2-ecd9e7c0a82f",
   "metadata": {},
   "outputs": [
    {
     "data": {
      "image/png": "[encoded data removed]",
      "text/plain": [
       "<Figure size 576x576 with 1 Axes>"
      ]
     },
     "metadata": {
      "needs_background": "light"
     },
     "output_type": "display_data"
    }
   ],
   "source": [
    "# Zoom in on the probe for a closer look - note that numpy array indexing is always [row, column]\n",
    "x_range = np.arange(-20,20) + 253  # range of x axis pixels to plot (rows)  \n",
    "y_range = np.arange(-20,20) + 251  # range of y axis pixels to plot (columns)\n",
    "# Feel free to move around the center coodinate (253, 251) or change the cropped sizes from (-20:20) to other dimensions\n",
    "py4DSTEM.visualize.show(diffraction_pattern_mean[x_range, y_range[:, None]])"
   ]
  },
  {
   "cell_type": "code",
   "execution_count": 87,
   "id": "0e7a8337-c569-44fb-ba30-a5752239870c",
   "metadata": {},
   "outputs": [
    {
     "name": "stdout",
     "output_type": "stream",
     "text": [
      "0.04 6425.9\n"
     ]
    }
   ],
   "source": [
    "# Now, lets change the plotting color range to verify the vacuum region really is vacuum (close to zero signal).\n",
    "# Step 1 is getting the minimum and maximum ranges (which are set to black and white color levels respectively above)\n",
    "print(np.min(diffraction_pattern_mean),np.max(diffraction_pattern_mean))"
   ]
  },
  {
   "cell_type": "code",
   "execution_count": 94,
   "id": "dff3350f-9e88-4db0-a4d3-cecf4a1e9283",
   "metadata": {},
   "outputs": [
    {
     "data": {
      "image/png": "[encoded data removed]",
      "text/plain": [
       "<Figure size 576x576 with 1 Axes>"
      ]
     },
     "metadata": {
      "needs_background": "light"
     },
     "output_type": "display_data"
    }
   ],
   "source": [
    "# We see that the min intensity is essentially zero, and the max is 6425.9 counts (note this is some factor * # of electrons).\n",
    "\n",
    "# Let's scale the plotting range to be from 0 to 1% of the maximum recorded counts.\n",
    "# clipvals='manual' will set the intensity range scaling to be manually specified by the user,\n",
    "# while min and max specify the intensity values assigned to black and white respectively.\n",
    "py4DSTEM.visualize.show(diffraction_pattern_mean[x_range, y_range[:, None]],\n",
    "                        clipvals='manual',\n",
    "                        min=0,\n",
    "                        max=np.max(diffraction_pattern_mean) * 0.01)"
   ]
  },
  {
   "cell_type": "markdown",
   "id": "9477db6e-28ce-479f-b8a1-c97cff82860e",
   "metadata": {},
   "source": [
    "We see that the probe intensity falls off extremely rapidly to zero. \n",
    "\n",
    "A small \"*bloom*\" is visible a few pixels out, which is due to the camera scintillator causing a slight point spread function. However since this extra intensitiy is significantly less than 1% of the peak intensity, it will not cause any issues.\n",
    "\n",
    "Next, we will perform a quick manual check to see if the probe shows movement between scan positions. We can perform this check in several ways, but here we will simply plot the difference in measured intensity for probes at different scan positions in the dataset. "
   ]
  },
  {
   "cell_type": "code",
   "execution_count": 107,
   "id": "ccd510a5-2d45-4dba-8c8f-80721a8cd70a",
   "metadata": {},
   "outputs": [
    {
     "data": {
      "image/png": "[encoded data removed]",
      "text/plain": [
       "<Figure size 576x576 with 1 Axes>"
      ]
     },
     "metadata": {
      "needs_background": "light"
     },
     "output_type": "display_data"
    }
   ],
   "source": [
    "# Calculate the difference between two images along row 10, the left-most (index 0) and right-most images (index -1).\n",
    "# This data consists of unsigned integers, which cannot display negative values. We therefore convert the images to floating point.\n",
    "diffraction_image_diff = dataset_01.data[10,0,:,:].astype(float) \\\n",
    "                       - dataset_01.data[10,-1,:,:].astype(float)\n",
    " # Note, the backslash \\ just means \"go to next line\"\n",
    "\n",
    "# Plot the ranges from -5% to +5% of the maximum value\n",
    "py4DSTEM.visualize.show(diffraction_image_diff[x_range, y_range[:, None]],\n",
    "                        clipvals='manual',\n",
    "                        min=np.max(diffraction_pattern_mean) * -0.05,\n",
    "                        max=np.max(diffraction_pattern_mean) * 0.05)"
   ]
  },
  {
   "cell_type": "markdown",
   "id": "85f74b1f-c267-48ea-bd51-659abe8385e5",
   "metadata": {},
   "source": [
    "First, we see why many images should be averaged to create the probe template - intensity fluctuations of +/-5% are clearly visible between images. This is due to the poisson noise statistics (shot noise) for a finite electron dose experiment. The vacuum probe on average will have a much smoother intensity distribution, and so we must average many images to approximate it.\n",
    "\n",
    "Additionally, we can see in the above image that the probe does not appear to be shifted (as expected for this experiment).  Let's take a quick look at what we would see if the probe were shifting during the recording of this data."
   ]
  },
  {
   "cell_type": "code",
   "execution_count": 117,
   "id": "b50c3c15-41d1-4c48-8a49-79f869eae308",
   "metadata": {},
   "outputs": [
    {
     "data": {
      "image/png": "[encoded data removed]",
      "text/plain": [
       "<Figure size 576x576 with 1 Axes>"
      ]
     },
     "metadata": {
      "needs_background": "light"
     },
     "output_type": "display_data"
    }
   ],
   "source": [
    "# Deliberately introduce a shift between two probe images - try different shifts such as -1, or changing axis=0 to axis=1\n",
    "diffraction_image_diff = dataset_01.data[10,0,:,:].astype(float) \\\n",
    "                       - np.roll(dataset_01.data[10,-1,:,:].astype(float), 1, axis=0)\n",
    "\n",
    "# Plot the difference image\n",
    "py4DSTEM.visualize.show(diffraction_image_diff[x_range, y_range[:, None]],\n",
    "                        clipvals='manual',\n",
    "                        min=np.max(diffraction_pattern_mean) * -0.05,\n",
    "                        max=np.max(diffraction_pattern_mean) * 0.05)"
   ]
  },
  {
   "cell_type": "markdown",
   "id": "38885ce5-851c-4f45-8b9b-0cfa3fc17094",
   "metadata": {},
   "source": [
    "As we can see, even a single pixel shift is **very** obvious in the difference image. \n",
    "\n",
    "It's important to remove any shifts if they are present -for example, a probe template with a diameter of 10 pixels which is shifted 2 pixels during the scan and then averaged will have an apparent diameter of ~12 pixels and a different edge shape (much less steep). This in turn makes the correlation image for Bragg peak detection less accurate.\n",
    "\n",
    "### Build the probe template image\n",
    "\n",
    "Now that we have verified the dataset quality, it's time to construct the probe template. When using a correlation image to detect and locate Bragg peaks, the image (array) origin is always in the upper left corner.  Since a correlation image displays maxima at shifts *relative* to each other (where the image contents agree) we need to be careful about our output coordinates.\n",
    "\n",
    "For example, say we have a probe template centered at index position `[250, 250]`, and we are detecting a Bragg disk in another diffraction image located at `[300, 400]`. If we naively take the 2D correlation of these images, we will observe a maximum at `[50, 150]`. This is because the probe template needs to be shifted `[50, 150]` pixels to *best agree* with the 2nd diffraction image. \n",
    "\n",
    "However, we could intepret the correlation output a lot more easily if the detected Bragg disk were located at pixel `[300, 400]`. We can achieve this outcome in a very simple way - simply move the probe template to the origin pixel at `[0, 0]`. If we then take the correlation of this shifted probe template with the diffraction image containing a Bragg disk centered on `[300, 400]`, the correlation image will also display a maximum value at pixel `[300, 400]`.\n",
    "\n",
    "### Normalization of probe template images\n",
    "\n",
    "We also typically want to normalize the probe template. We do this in two ways - first, we divide the probe template by its total intensity sum, such that it has an intensity sum of 1. This ensures that the correlation output intensity for each Bragg disk is roughly equal to the total integrated intensity inside the disk, generating more interpretable outputs. This is also useful for applying global intensity thresholds to the measured Bragg intensity values.\n",
    "\n",
    "Second, we often wany to reduce the effect of the *local environment* in Bragg disk detection. A Bragg disk located very close to the origin may be sitting on a large background signal, while Bragg disks at high scattering angles may have almost no background present. We want the Bragg disk detection routines to be relatively independent of the local background signal. We usually accomplish this by subtracting a normalization kernel from the probe template which also sums to 1, giving a total intensity sum for the template of zero. We typically choose either a 2D Gaussian distribution, or a 2D sigmoid / logistic function for this normalization kernel, both with in-plane dimensions larger than the probe itself.  The Gaussian distribution produces the smoothest output intensity, but may also introduce errors near other peaks due to the longer tail of the distribution. We use a sigmoid / logistic function typically when we want smaller tails on the normalized probe template. \n",
    "\n",
    "### Masking of probe template images\n",
    "\n",
    "Another consideration is masking off the probe. This is the process of ensuring that pixels far from the probe are set to zero.  The detector noise may only be equal to small values in each pixel, but these signals can add up when considering thousands or even millions of detector pixels. The function:\n",
    "`py4DSTEM.process.diskdetection.get_probe_from_vacuum_4Dscan` both aligns the input images and masks them off, with a default mask size of 12 pixels from the estimate probe edge. This function has several additional tunable parameters, but these will not be examined here.\n",
    "\n",
    "---\n",
    "\n",
    "Lastly, we want to emphasize that Bragg disk detection always requires hyperparameter tuning of some form, including modifying the probe template functions. This is because there is always a tradeoff between the number of false positives measured (seeing Bragg disks that aren't there) and the number of false negatives (missing Bragg peaks which are there). At small enough electron doses / Bragg peak excitation values, there will always be borderline peaks which we must use our judgement in deciding whether to include or not. This *hyperparameter tuning* can be done in a statistically optimal way, but that subject will be covered in another tutorial."
   ]
  },
  {
   "cell_type": "code",
   "execution_count": 217,
   "id": "2047d311-4656-44ed-a427-0fd42c5ddeba",
   "metadata": {},
   "outputs": [
    {
     "name": "stderr",
     "output_type": "stream",
     "text": [
      "100%|███████████████████████████████████████████████████████████████████████████████| 399/399 [00:01<00:00, 349.48it/s]\n"
     ]
    },
    {
     "data": {
      "image/png": "[encoded data removed]",
      "text/plain": [
       "<Figure size 864x432 with 2 Axes>"
      ]
     },
     "metadata": {
      "needs_background": "light"
     },
     "output_type": "display_data"
    },
    {
     "name": "stdout",
     "output_type": "stream",
     "text": [
      "Sum of probe template = 1.0\n"
     ]
    }
   ],
   "source": [
    "# Mask off the mean vacuum probe image\n",
    "probe_masked_01 = py4DSTEM.process.diskdetection.get_probe_from_vacuum_4Dscan(dataset_01, align=False)\n",
    "\n",
    "# Generate a probe template from the mean diffraction image, without subtracting a normalization kernel\n",
    "probe_kernel_01 = py4DSTEM.process.diskdetection.get_probe_kernel(probe_masked_01)\n",
    "\n",
    "# Plot the probe kernel\n",
    "# -left image shows 1/4 of the periodic probe image out to a radius of 20 px, now centered on [0, 0].\n",
    "# -Right plot shows line trace 4 px wide.\n",
    "py4DSTEM.visualize.show_kernel(probe_kernel_01, R=20, L=20, W=4)\n",
    "\n",
    "# Print the sum of the probe template\n",
    "print('Sum of probe template =', np.sum(probe_kernel))"
   ]
  },
  {
   "cell_type": "markdown",
   "id": "9e4a22a8-4389-4133-ab75-ad7bb009ca05",
   "metadata": {},
   "source": [
    "The above probe template is perfectly reasonable to use for Bragg disk detection.  For the sake of completeness, we will now see how to automatically remove image shifts if the STEM probe were scanned around during the recording of this dataset. Note that this will take about 30 seconds, since each diffraction image must be aligned to a single common origin. "
   ]
  },
  {
   "cell_type": "code",
   "execution_count": 219,
   "id": "11b11f87-0e33-4996-b271-b7d638a45c42",
   "metadata": {},
   "outputs": [
    {
     "name": "stderr",
     "output_type": "stream",
     "text": [
      "100%|████████████████████████████████████████████████████████████████████████████████| 399/399 [00:35<00:00, 11.34it/s]\n"
     ]
    },
    {
     "data": {
      "image/png": "[encoded data removed]",
      "text/plain": [
       "<Figure size 864x432 with 2 Axes>"
      ]
     },
     "metadata": {
      "needs_background": "light"
     },
     "output_type": "display_data"
    }
   ],
   "source": [
    "# align the [20 x 20] STEM probe positions to a common origin\n",
    "probe_aligned_01 = py4DSTEM.process.diskdetection.get_probe_from_vacuum_4Dscan(dataset_01)\n",
    "\n",
    "# Generate a probe template from the mean diffraction image after alignment\n",
    "probe_kernel_01 = py4DSTEM.process.diskdetection.get_probe_kernel(probe_aligned_01)\n",
    "\n",
    "# Plot the probe kernel\n",
    "py4DSTEM.visualize.show_kernel(probe_kernel_01, R=20, L=20, W=4)"
   ]
  },
  {
   "cell_type": "markdown",
   "id": "45b8b18e-08cf-4f35-ba51-60f8e51b4517",
   "metadata": {},
   "source": [
    "As we can see, the output is virtually unchanged - no alignment was necessary for this dataset. However, we will need to perform this alignment steps for other examples in this tutorial below.\n",
    "\n",
    "Next, let's make some normalized probe templates by subtacting normalization kernels.  First, let's use a Gaussian distribution with a sigma value (standard deviation) equal to 2 times the estimated probe radius."
   ]
  },
  {
   "cell_type": "code",
   "execution_count": 227,
   "id": "8d6bc0eb-ca71-42ec-bf40-bd936203e598",
   "metadata": {},
   "outputs": [
    {
     "name": "stderr",
     "output_type": "stream",
     "text": [
      "100%|███████████████████████████████████████████████████████████████████████████████| 399/399 [00:01<00:00, 344.72it/s]\n"
     ]
    },
    {
     "name": "stdout",
     "output_type": "stream",
     "text": [
      "Estimated probe radius = 6.39 pixels\n"
     ]
    },
    {
     "data": {
      "image/png": "[encoded data removed]",
      "text/plain": [
       "<Figure size 576x576 with 1 Axes>"
      ]
     },
     "metadata": {
      "needs_background": "light"
     },
     "output_type": "display_data"
    }
   ],
   "source": [
    "# Mask off the mean vacuum probe image (note we are repeating a previous step)\n",
    "probe_masked_01 = py4DSTEM.process.diskdetection.get_probe_from_vacuum_4Dscan(dataset_01, align=False)\n",
    "\n",
    "# Get the probe radius (and center coordinates)\n",
    "probe_01_radius, probe_01_qx0, probe_01_qy0 = py4DSTEM.process.calibration.get_probe_size(probe_masked_01)\n",
    "\n",
    "# plot the diffraction pattern, with the estimate probe radius overlaid as a circle\n",
    "fig,ax = py4DSTEM.visualize.show_circles(diffraction_pattern_mean, (probe_01_qx0, probe_01_qy0), probe_01_radius, returnfig=True)\n",
    "\n",
    "# Print the estimate probe radius\n",
    "print('Estimated probe radius =', '%.2f' % probe_01_radius, 'pixels')\n",
    "\n",
    "# note that we returned the figure and axis handles so that we can zoom in on the probe. \n",
    "# Try commenting out the below commands to see why we do this.\n",
    "ax.set_xlim(230, 270);\n",
    "ax.set_ylim(233, 273);"
   ]
  },
  {
   "cell_type": "code",
   "execution_count": 228,
   "id": "c06ec8b1-41db-44d6-bfce-c14b6dde7d4b",
   "metadata": {},
   "outputs": [
    {
     "data": {
      "image/png": "[encoded data removed]",
      "text/plain": [
       "<Figure size 864x432 with 2 Axes>"
      ]
     },
     "metadata": {
      "needs_background": "light"
     },
     "output_type": "display_data"
    },
    {
     "name": "stdout",
     "output_type": "stream",
     "text": [
      "Sum of probe template = -0.000000\n"
     ]
    }
   ],
   "source": [
    "# construct a probe template by subtracting a Gaussian normalization kernel, with sigma = probe_01_radius\n",
    "probe_kernel_01 = py4DSTEM.process.diskdetection.get_probe_kernel_edge_gaussian(probe_masked_01, probe_01_radius)\n",
    "\n",
    "# Plot the probe kernel\n",
    "py4DSTEM.visualize.show_kernel(probe_kernel_01, R=20, L=20, W=4)\n",
    "\n",
    "# Print the sum of the probe template\n",
    "print('Sum of probe template =', '%.6f' % np.sum(probe_kernel_01))"
   ]
  },
  {
   "cell_type": "markdown",
   "id": "2043ea40-b23e-42f3-82a8-33f5d5a03f72",
   "metadata": {},
   "source": [
    "You are likely wondering why the probe looks identical to before, despite the fact that we subtracted a Gaussian normalization function.  We know the probe has indeed been normalized since the sum of all pixels is now 0 rather than 1.  So what is happening here?\n",
    "\n",
    "The normalization kernel is not visible in the above plot because the peak of this kernel is much lower than the peak of the STEM probe. To see it more clearly, we can scale the intensity range of the output image."
   ]
  },
  {
   "cell_type": "code",
   "execution_count": 232,
   "id": "045475c2-866c-4ac1-830c-5645e7177b5b",
   "metadata": {},
   "outputs": [
    {
     "data": {
      "image/png": "[encoded data removed]",
      "text/plain": [
       "<Figure size 576x576 with 1 Axes>"
      ]
     },
     "metadata": {
      "needs_background": "light"
     },
     "output_type": "display_data"
    }
   ],
   "source": [
    "# Get the peak value of the probe template\n",
    "probe_kernel_01_max = np.max(probe_kernel_01)\n",
    "\n",
    "# Set the size of the image plot, starting from the origin pixel (upper left corner)\n",
    "plot_size = 60\n",
    "\n",
    "# Plot the \n",
    "py4DSTEM.visualize.show(probe_kernel_01[0:plot_size,0:plot_size],\n",
    "                        clipvals='manual',\n",
    "                        min=probe_kernel_01_max * -0.02,\n",
    "                        max=probe_kernel_01_max * 0.02)"
   ]
  },
  {
   "cell_type": "code",
   "execution_count": null,
   "id": "ec5bad71-888b-4456-8958-187990ae6a2b",
   "metadata": {},
   "outputs": [],
   "source": []
  },
  {
   "cell_type": "code",
   "execution_count": null,
   "id": "de4c968f-10d2-40e3-9437-d508e4dfedd7",
   "metadata": {},
   "outputs": [],
   "source": []
  },
  {
   "cell_type": "code",
   "execution_count": null,
   "id": "73b7d5f8-c069-414a-b5d8-7703c62f5c7e",
   "metadata": {},
   "outputs": [],
   "source": []
  },
  {
   "cell_type": "code",
   "execution_count": null,
   "id": "4abf5d52-1518-46b3-8be2-d72a241041db",
   "metadata": {},
   "outputs": [],
   "source": []
  },
  {
   "cell_type": "code",
   "execution_count": 209,
   "id": "4734153b-a985-4f49-976a-5765898f437c",
   "metadata": {},
   "outputs": [
    {
     "data": {
      "text/plain": [
       "\u001b[1;31mSignature:\u001b[0m\n",
       "\u001b[0mpy4DSTEM\u001b[0m\u001b[1;33m.\u001b[0m\u001b[0mprocess\u001b[0m\u001b[1;33m.\u001b[0m\u001b[0mdiskdetection\u001b[0m\u001b[1;33m.\u001b[0m\u001b[0mget_probe_from_vacuum_4Dscan\u001b[0m\u001b[1;33m(\u001b[0m\u001b[1;33m\n",
       "\u001b[0m    \u001b[0mdatacube\u001b[0m\u001b[1;33m,\u001b[0m\u001b[1;33m\n",
       "\u001b[0m    \u001b[0mmask_threshold\u001b[0m\u001b[1;33m=\u001b[0m\u001b[1;36m0.2\u001b[0m\u001b[1;33m,\u001b[0m\u001b[1;33m\n",
       "\u001b[0m    \u001b[0mmask_expansion\u001b[0m\u001b[1;33m=\u001b[0m\u001b[1;36m12\u001b[0m\u001b[1;33m,\u001b[0m\u001b[1;33m\n",
       "\u001b[0m    \u001b[0mmask_opening\u001b[0m\u001b[1;33m=\u001b[0m\u001b[1;36m3\u001b[0m\u001b[1;33m,\u001b[0m\u001b[1;33m\n",
       "\u001b[0m    \u001b[0mverbose\u001b[0m\u001b[1;33m=\u001b[0m\u001b[1;32mFalse\u001b[0m\u001b[1;33m,\u001b[0m\u001b[1;33m\n",
       "\u001b[0m    \u001b[0malign\u001b[0m\u001b[1;33m=\u001b[0m\u001b[1;32mTrue\u001b[0m\u001b[1;33m,\u001b[0m\u001b[1;33m\n",
       "\u001b[0m\u001b[1;33m)\u001b[0m\u001b[1;33m\u001b[0m\u001b[0m\n",
       "\u001b[1;31mDocstring:\u001b[0m\n",
       "Averages all diffraction patterns in a datacube, assumed to be taken over vacuum,\n",
       "to create and average vacuum probe. Optionally (default) aligns the patterns.\n",
       "\n",
       "Values outisde the average probe are zeroed, using a binary mask determined by the optional\n",
       "parameters mask_threshold, mask_expansion, and mask_opening.  An initial binary mask is created\n",
       "using a threshold of less than mask_threshold times the maximal probe value. A morphological\n",
       "opening of mask_opening pixels is performed to eliminate stray pixels (e.g. from x-rays),\n",
       "followed by a dilation of mask_expansion pixels to ensure the entire probe is captured.\n",
       "\n",
       "Accepts:\n",
       "    datacube        (DataCube) a vacuum scan\n",
       "    mask_threshold  (float) threshold determining mask which zeros values outside of probe\n",
       "    mask_expansion  (int) number of pixels by which the zeroing mask is expanded to capture\n",
       "                    the full probe\n",
       "    mask_opening    (int) size of binary opening used to eliminate stray bright pixels\n",
       "    verbose         (bool) if True, prints progress updates\n",
       "    align           (bool) if True, aligns the probes before averaging\n",
       "\n",
       "Returns:\n",
       "    probe           (ndarray of shape (datacube.Q_Nx,datacube.Q_Ny)) the average probe\n",
       "\u001b[1;31mFile:\u001b[0m      c:\\users\\cophus\\repos\\py4dstem\\py4dstem\\process\\diskdetection\\probe.py\n",
       "\u001b[1;31mType:\u001b[0m      function\n"
      ]
     },
     "metadata": {},
     "output_type": "display_data"
    }
   ],
   "source": [
    "py4DSTEM.process.diskdetection.get_probe_from_vacuum_4Dscan?"
   ]
  },
  {
   "cell_type": "code",
   "execution_count": 176,
   "id": "7e6f9093-540f-4efa-a490-03b41d295e7a",
   "metadata": {},
   "outputs": [
    {
     "data": {
      "text/plain": [
       "\u001b[1;31mSignature:\u001b[0m\n",
       "\u001b[0mpy4DSTEM\u001b[0m\u001b[1;33m.\u001b[0m\u001b[0mprocess\u001b[0m\u001b[1;33m.\u001b[0m\u001b[0mdiskdetection\u001b[0m\u001b[1;33m.\u001b[0m\u001b[0mget_probe_kernel_edge_gaussian\u001b[0m\u001b[1;33m(\u001b[0m\u001b[1;33m\n",
       "\u001b[0m    \u001b[0mprobe\u001b[0m\u001b[1;33m,\u001b[0m\u001b[1;33m\n",
       "\u001b[0m    \u001b[0msigma_probe_scale\u001b[0m\u001b[1;33m,\u001b[0m\u001b[1;33m\n",
       "\u001b[0m    \u001b[0morigin\u001b[0m\u001b[1;33m=\u001b[0m\u001b[1;32mNone\u001b[0m\u001b[1;33m,\u001b[0m\u001b[1;33m\n",
       "\u001b[0m\u001b[1;33m)\u001b[0m\u001b[1;33m\u001b[0m\u001b[0m\n",
       "\u001b[1;31mDocstring:\u001b[0m\n",
       "Creates a convolution kernel from an average probe, subtracting a gaussian from the normalized\n",
       "probe such that the kernel integrates to zero, then shifting the center of the probe to the\n",
       "array corners.\n",
       "\n",
       "Accepts:\n",
       "    probe              (ndarray) the diffraction pattern corresponding to the probe over vacuum\n",
       "    sigma_probe_scale  (float) the width of the gaussian to subtract, relative to the standard\n",
       "                       deviation of the probe\n",
       "    origin             (2-tuple or None) if None (default), finds the origin using get_probe_radius.\n",
       "                       Otherwise, should be a 2-tuple (x0,y0) specifying the origin position\n",
       "\n",
       "Returns:\n",
       "    probe_kernel       (ndarray) the convolution kernel corresponding to the probe\n",
       "\u001b[1;31mFile:\u001b[0m      c:\\users\\cophus\\repos\\py4dstem\\py4dstem\\process\\diskdetection\\probe.py\n",
       "\u001b[1;31mType:\u001b[0m      function\n"
      ]
     },
     "metadata": {},
     "output_type": "display_data"
    }
   ],
   "source": [
    "py4DSTEM.process.diskdetection.get_probe_kernel_edge_gaussian?"
   ]
  },
  {
   "cell_type": "code",
   "execution_count": 143,
   "id": "0267bce9-da56-490d-9a2f-45d5a47edf2f",
   "metadata": {},
   "outputs": [
    {
     "data": {
      "text/plain": [
       "\u001b[1;31mSignature:\u001b[0m\n",
       "\u001b[0mpy4DSTEM\u001b[0m\u001b[1;33m.\u001b[0m\u001b[0mvisualize\u001b[0m\u001b[1;33m.\u001b[0m\u001b[0mshow_circles\u001b[0m\u001b[1;33m(\u001b[0m\u001b[1;33m\n",
       "\u001b[0m    \u001b[0mar\u001b[0m\u001b[1;33m,\u001b[0m\u001b[1;33m\n",
       "\u001b[0m    \u001b[0mcenter\u001b[0m\u001b[1;33m,\u001b[0m\u001b[1;33m\n",
       "\u001b[0m    \u001b[0mR\u001b[0m\u001b[1;33m,\u001b[0m\u001b[1;33m\n",
       "\u001b[0m    \u001b[0mcolor\u001b[0m\u001b[1;33m=\u001b[0m\u001b[1;34m'r'\u001b[0m\u001b[1;33m,\u001b[0m\u001b[1;33m\n",
       "\u001b[0m    \u001b[0mfill\u001b[0m\u001b[1;33m=\u001b[0m\u001b[1;32mTrue\u001b[0m\u001b[1;33m,\u001b[0m\u001b[1;33m\n",
       "\u001b[0m    \u001b[0malpha\u001b[0m\u001b[1;33m=\u001b[0m\u001b[1;36m0.3\u001b[0m\u001b[1;33m,\u001b[0m\u001b[1;33m\n",
       "\u001b[0m    \u001b[0mlinewidth\u001b[0m\u001b[1;33m=\u001b[0m\u001b[1;36m2\u001b[0m\u001b[1;33m,\u001b[0m\u001b[1;33m\n",
       "\u001b[0m    \u001b[0mreturnfig\u001b[0m\u001b[1;33m=\u001b[0m\u001b[1;32mFalse\u001b[0m\u001b[1;33m,\u001b[0m\u001b[1;33m\n",
       "\u001b[0m    \u001b[1;33m**\u001b[0m\u001b[0mkwargs\u001b[0m\u001b[1;33m,\u001b[0m\u001b[1;33m\n",
       "\u001b[0m\u001b[1;33m)\u001b[0m\u001b[1;33m\u001b[0m\u001b[0m\n",
       "\u001b[1;31mDocstring:\u001b[0m\n",
       "Visualization function which plots a 2D array with one or more overlayed circles.\n",
       "To overlay one circle, center must be a single 2-tuple.  To overlay N circles,\n",
       "center must be a list of N 2-tuples.  color, fill, and alpha may each be single values,\n",
       "which are then applied to all the circles, or a length N list.\n",
       "\n",
       "See the docstring for py4DSTEM.visualize.show() for descriptions of all input\n",
       "parameters not listed below.\n",
       "\n",
       "Accepts:\n",
       "    center      (2-tuple, or list of N 2-tuples) the center of the circle (x0,y0)\n",
       "    R           (number of list of N numbers) the circles radius\n",
       "    color       (valid matplotlib color, or list of N colors)\n",
       "    fill        (bool or list of N bools) filled in or empty rectangles\n",
       "    alpha       (number, 0 to 1) transparency\n",
       "    linewidth   (number)\n",
       "\n",
       "Returns:\n",
       "    If returnfig==False (default), the figure is plotted and nothing is returned.\n",
       "    If returnfig==False, the figure and its one axis are returned, and can be\n",
       "    further edited.\n",
       "\u001b[1;31mFile:\u001b[0m      c:\\users\\cophus\\repos\\py4dstem\\py4dstem\\visualize\\show.py\n",
       "\u001b[1;31mType:\u001b[0m      function\n"
      ]
     },
     "metadata": {},
     "output_type": "display_data"
    }
   ],
   "source": [
    "py4DSTEM.visualize.show_circles?"
   ]
  },
  {
   "cell_type": "code",
   "execution_count": 135,
   "id": "33aee102-4793-41ed-9404-5aea54d261b7",
   "metadata": {},
   "outputs": [
    {
     "data": {
      "text/plain": [
       "\u001b[1;31mSignature:\u001b[0m \u001b[0mpy4DSTEM\u001b[0m\u001b[1;33m.\u001b[0m\u001b[0mprocess\u001b[0m\u001b[1;33m.\u001b[0m\u001b[0mdiskdetection\u001b[0m\u001b[1;33m.\u001b[0m\u001b[0mget_probe_kernel\u001b[0m\u001b[1;33m(\u001b[0m\u001b[0mprobe\u001b[0m\u001b[1;33m,\u001b[0m \u001b[0morigin\u001b[0m\u001b[1;33m=\u001b[0m\u001b[1;32mNone\u001b[0m\u001b[1;33m)\u001b[0m\u001b[1;33m\u001b[0m\u001b[0m\n",
       "\u001b[1;31mDocstring:\u001b[0m\n",
       "Creates a convolution kernel from an average probe, by normalizing, then shifting the center of\n",
       "the probe to the corners of the array.\n",
       "\n",
       "Accepts:\n",
       "    probe           (ndarray) the diffraction pattern corresponding to the probe over vacuum\n",
       "    origin          (2-tuple or None) if None (default), finds the origin using get_probe_radius.\n",
       "                    Otherwise, should be a 2-tuple (x0,y0) specifying the origin position\n",
       "\n",
       "Returns:\n",
       "    probe_kernel    (ndarray) the convolution kernel corresponding to the probe, in real space\n",
       "\u001b[1;31mFile:\u001b[0m      c:\\users\\cophus\\repos\\py4dstem\\py4dstem\\process\\diskdetection\\probe.py\n",
       "\u001b[1;31mType:\u001b[0m      function\n"
      ]
     },
     "metadata": {},
     "output_type": "display_data"
    }
   ],
   "source": [
    "py4DSTEM.process.diskdetection.get_probe_kernel?"
   ]
  },
  {
   "cell_type": "code",
   "execution_count": null,
   "id": "2a4379ac-73c3-4a50-95ed-a094e8055e25",
   "metadata": {},
   "outputs": [],
   "source": []
  },
  {
   "cell_type": "code",
   "execution_count": null,
   "id": "99170d4d-3b92-4c27-a884-80b3fab0a4b2",
   "metadata": {},
   "outputs": [],
   "source": []
  },
  {
   "cell_type": "code",
   "execution_count": null,
   "id": "0d388f8f-4d0d-40fc-86ea-0b8d25f470fc",
   "metadata": {},
   "outputs": [],
   "source": []
  },
  {
   "cell_type": "code",
   "execution_count": null,
   "id": "366f8597-fe1d-477b-b39f-943e07d087a3",
   "metadata": {},
   "outputs": [],
   "source": []
  },
  {
   "cell_type": "code",
   "execution_count": null,
   "id": "c0342e78-0d46-415b-8505-6f31a93763f0",
   "metadata": {},
   "outputs": [],
   "source": []
  },
  {
   "cell_type": "code",
   "execution_count": null,
   "id": "7831a758-1787-4925-811d-9ea911bdaafd",
   "metadata": {},
   "outputs": [],
   "source": []
  },
  {
   "cell_type": "code",
   "execution_count": null,
   "id": "414ed350-a95d-4d46-983d-77dac3a5f3ca",
   "metadata": {},
   "outputs": [],
   "source": []
  },
  {
   "cell_type": "code",
   "execution_count": null,
   "id": "7c7d74a8-a285-410e-8b2e-68373d16155d",
   "metadata": {},
   "outputs": [],
   "source": []
  },
  {
   "cell_type": "code",
   "execution_count": null,
   "id": "f84325c8-d17c-477f-a0ce-91b9d63db089",
   "metadata": {},
   "outputs": [],
   "source": []
  },
  {
   "cell_type": "code",
   "execution_count": null,
   "id": "9c370996-38d6-4df1-8159-b824e9e58deb",
   "metadata": {},
   "outputs": [],
   "source": []
  },
  {
   "cell_type": "code",
   "execution_count": null,
   "id": "2df52b38-c081-4ff4-86dc-fa9a8adfd764",
   "metadata": {},
   "outputs": [],
   "source": []
  },
  {
   "cell_type": "code",
   "execution_count": null,
   "id": "4f6532f1-cb84-4d5e-94bd-aa341ea725a3",
   "metadata": {},
   "outputs": [],
   "source": []
  },
  {
   "cell_type": "code",
   "execution_count": null,
   "id": "e82e3a3d-728e-4f53-92b0-8d10ff1e35bb",
   "metadata": {},
   "outputs": [],
   "source": [
    "# Time to take a look at this data, both in real space and diffraction (reciprocal) space. \n"
   ]
  },
  {
   "cell_type": "code",
   "execution_count": null,
   "id": "19ceae0d-981f-47bd-8b89-3281ccb2d4f4",
   "metadata": {},
   "outputs": [],
   "source": [
    "# Time to take a look at this data, both in real space and diffraction (reciprocal) space. \n",
    "# diffraction_pattern_mean = np.mean(dataset_01.data, axis=(0,1))\n",
    "\n",
    "\n",
    "\n",
    "diffraction_pattern_mean = np.mean(dataset_01.data, axis=(0,1))\n",
    "# diffraction_pattern_mean = np.mean(dataset_01.data, axis=(0,1))\n",
    "# # py4DSTEM.visualize.show(diffraction_pattern_mean, figsize=(2,2))\n",
    "# # py4DSTEM.visualize.show(diffraction_pattern_mean, figsize=(2,2))\n",
    "# # py4DSTEM.visualize.show_image_grid(diffraction_pattern_mean, H=1, W=1)\n",
    "# vis.show_RQ(realspace_image=BF_image,\n",
    "#             diffractionspace_image=datacube.data[4,7,:,:],\n",
    "#             realspace_pdict={'cmap':'viridis'},\n",
    "#             diffractionspace_pdict={'scaling':'power','power':0.5,\n",
    "#                                     'clipvals':'std','min':1,'max':3})"
   ]
  }
 ],
 "metadata": {
  "kernelspec": {
   "display_name": "Python 3",
   "language": "python",
   "name": "python3"
  },
  "language_info": {
   "codemirror_mode": {
    "name": "ipython",
    "version": 3
   },
   "file_extension": ".py",
   "mimetype": "text/x-python",
   "name": "python",
   "nbconvert_exporter": "python",
   "pygments_lexer": "ipython3",
   "version": "3.7.0"
  }
 },
 "nbformat": 4,
 "nbformat_minor": 5
}
