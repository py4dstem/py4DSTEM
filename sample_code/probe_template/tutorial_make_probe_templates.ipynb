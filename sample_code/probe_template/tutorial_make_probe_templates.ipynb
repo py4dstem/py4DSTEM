{
 "cells": [
  {
   "cell_type": "markdown",
   "id": "c54d5e2c-cd25-438f-a662-57347fb5114a",
   "metadata": {},
   "source": [
    "# py4DSTEM - Tutorial on constructing probe templates\n",
    "---\n",
    "\n",
    "### Introduction\n",
    "\n",
    "This is a tutorial notebook for constructing STEM probe template images. The goal is to measure or approximate the image of a STEM probe in vacuum (i.e. no scattering from a sample), and shift it to the origin. These \"probe templates\" can be used for:\n",
    "1. Bragg disk detection using correlation.\n",
    "2. Bragg disk detection using machine learning networks.\n",
    "3. Calibration of the probe semiangle, ellipticity, or other probe geometric parameters.\n",
    "4. Inital probe intensity distribution for ptychographic reconstructions.\n",
    "\n",
    "There are 4 methods of constructing a probe template covered in this tutorial.  In order from best to worst, they are:\n",
    "1. Immediately after completing on or more 4D-STEM experiments: Move the sample out of the way, and record of a series of images of the STEM probe under the exact same imaging conditions, with no scanning.\n",
    "2. Average a subset of images from an experimental dataset, where the probe passes through vacuum.\n",
    "3. Average a subset of images from an experimental dataset, where the probe passes though the thinnest posisble region of the sample.\n",
    "4. Construct a synthetic probe image.\n",
    "\n",
    "### Information\n",
    "\n",
    "This tutorial was written by Colin Ophus (cophus@gmail.com).\n",
    "The 4D-STEM datasets used here were collected by:\n",
    "1. Clarissa Bhargava\n",
    "2. Sean Mills\n",
    "3. Karen Bustillo\n",
    "4. Shiteng Zhao\n",
    "\n",
    "### Version\n",
    "Last updated on 2021-06-01 with py4DSTEM version 0.12.0."
   ]
  },
  {
   "cell_type": "markdown",
   "id": "9f9c4de7-0b0d-4fcc-bc72-b834b2e063e4",
   "metadata": {},
   "source": [
    "# Download the datasets used in this tutorial\n",
    "\n",
    "You can download the 4 tutorial datasets here: \n",
    "1. [part 1](https://drive.google.com/file/d/1QTcSKzZjHZd1fDimSI_q9_WsAU25NIXe/view?usp=sharing)\n",
    "2. [part 2](https://drive.google.com/file/d/1iBSANFQT9eacpn7aAE6PmFdIRYQxenGg/view?usp=sharing)\n",
    "3. [part 3](https://drive.google.com/file/d/1p9GaV0k628_afbdqFW62rHObcjQ09qyl/view?usp=sharing)\n",
    "4. [part 4](https://drive.google.com/file/d/1sUrPEgM1wWyTh-LJ30lGUhcXklHj6ajC/view?usp=sharing). \n",
    "\n",
    "Place the file somewhere on your filesystem, then in the cell immediately after this one, update the variable `filepath_input` to reflect that path to the file.  Then update `filepath_output` to set wherever you want to save the outputs."
   ]
  },
  {
   "cell_type": "code",
   "execution_count": null,
   "id": "0b437983-0f73-49ef-965f-db0f5ce58eef",
   "metadata": {},
   "outputs": [],
   "source": [
    "# Set the file paths for the input datasets\n",
    "file_path_example_01 = 'c:/Data/calibrationData_simulatedAuNanoplatelet_binned.h5'"
   ]
  },
  {
   "cell_type": "code",
   "execution_count": null,
   "id": "a19885f1-7491-450b-bd43-09102c27ff94",
   "metadata": {},
   "outputs": [],
   "source": [
    "# Initialization - import the needed packages\n",
    "import py4DSTEM"
   ]
  },
  {
   "cell_type": "code",
   "execution_count": null,
   "id": "37f1542b-5959-495d-8086-ecc5fa396810",
   "metadata": {},
   "outputs": [],
   "source": []
  },
  {
   "cell_type": "code",
   "execution_count": null,
   "id": "b2452a5c-1fe8-4194-88e8-2f7b22eddb31",
   "metadata": {},
   "outputs": [],
   "source": []
  },
  {
   "cell_type": "code",
   "execution_count": null,
   "id": "fc9ba9ab-40a3-42f2-b5f4-1e5440438273",
   "metadata": {},
   "outputs": [],
   "source": []
  },
  {
   "cell_type": "code",
   "execution_count": null,
   "id": "b537ef98-0b6d-46ac-a07e-7dc08b5bd45f",
   "metadata": {},
   "outputs": [],
   "source": []
  },
  {
   "cell_type": "code",
   "execution_count": null,
   "id": "ec32d50f-75e4-44ef-8229-7e90909b9902",
   "metadata": {},
   "outputs": [],
   "source": []
  },
  {
   "cell_type": "code",
   "execution_count": null,
   "id": "5c0b57bf-5a20-40ac-8a1b-708d666f42b1",
   "metadata": {},
   "outputs": [],
   "source": []
  },
  {
   "cell_type": "code",
   "execution_count": null,
   "id": "58d32c9b-f5d3-4bae-99f2-ecd9e7c0a82f",
   "metadata": {},
   "outputs": [],
   "source": []
  },
  {
   "cell_type": "code",
   "execution_count": null,
   "id": "0e7a8337-c569-44fb-ba30-a5752239870c",
   "metadata": {},
   "outputs": [],
   "source": []
  },
  {
   "cell_type": "code",
   "execution_count": null,
   "id": "dff3350f-9e88-4db0-a4d3-cecf4a1e9283",
   "metadata": {},
   "outputs": [],
   "source": []
  },
  {
   "cell_type": "code",
   "execution_count": null,
   "id": "104700ac-71e4-4402-a662-3e203bc3a8ea",
   "metadata": {},
   "outputs": [],
   "source": []
  },
  {
   "cell_type": "code",
   "execution_count": null,
   "id": "2df52b38-c081-4ff4-86dc-fa9a8adfd764",
   "metadata": {},
   "outputs": [],
   "source": []
  },
  {
   "cell_type": "code",
   "execution_count": null,
   "id": "4f6532f1-cb84-4d5e-94bd-aa341ea725a3",
   "metadata": {},
   "outputs": [],
   "source": []
  },
  {
   "cell_type": "code",
   "execution_count": null,
   "id": "e82e3a3d-728e-4f53-92b0-8d10ff1e35bb",
   "metadata": {},
   "outputs": [],
   "source": []
  },
  {
   "cell_type": "code",
   "execution_count": null,
   "id": "19ceae0d-981f-47bd-8b89-3281ccb2d4f4",
   "metadata": {},
   "outputs": [],
   "source": []
  }
 ],
 "metadata": {
  "kernelspec": {
   "display_name": "Python 3",
   "language": "python",
   "name": "python3"
  },
  "language_info": {
   "codemirror_mode": {
    "name": "ipython",
    "version": 3
   },
   "file_extension": ".py",
   "mimetype": "text/x-python",
   "name": "python",
   "nbconvert_exporter": "python",
   "pygments_lexer": "ipython3",
   "version": "3.7.0"
  }
 },
 "nbformat": 4,
 "nbformat_minor": 5
}
