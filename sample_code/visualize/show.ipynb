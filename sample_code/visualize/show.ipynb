{
 "cells": [
  {
   "cell_type": "markdown",
   "id": "charged-roads",
   "metadata": {},
   "source": [
    "# `py4DSTEM.visualize.show`\n",
    "\n",
    "A tutorial for the `show` function\n",
    "\n",
    "### Versioning\n",
    "\n",
    "Last updated on 2022-09-20 with py4DSTEM v.0.13.6."
   ]
  },
  {
   "cell_type": "code",
   "execution_count": null,
   "id": "universal-adapter",
   "metadata": {},
   "outputs": [],
   "source": [
    "import py4DSTEM.visualize as vis\n",
    "import matplotlib.pyplot as plt\n",
    "import numpy as np\n",
    "import py4DSTEM\n",
    "\n",
    "print(py4DSTEM.__version__)"
   ]
  },
  {
   "cell_type": "code",
   "execution_count": null,
   "id": "refined-preservation",
   "metadata": {},
   "outputs": [],
   "source": [
    "# Generate some sample data\n",
    "R_Nx,R_Ny = 128,256\n",
    "ryy,rxx = np.meshgrid(np.arange(R_Ny),np.arange(R_Nx))\n",
    "im = (np.cos(2*np.pi*ryy*4/R_Ny)*np.sin(2*np.pi*rxx/R_Nx))**2+0.01"
   ]
  },
  {
   "cell_type": "code",
   "execution_count": null,
   "id": "affected-morrison",
   "metadata": {},
   "outputs": [],
   "source": [
    "vis.show(im)"
   ]
  },
  {
   "cell_type": "code",
   "execution_count": null,
   "id": "olympic-symbol",
   "metadata": {},
   "outputs": [],
   "source": [
    "vis.show(im,figsize=(6,6),cmap='RdBu')"
   ]
  },
  {
   "cell_type": "code",
   "execution_count": null,
   "id": "applied-omaha",
   "metadata": {},
   "outputs": [],
   "source": [
    "vis.show(im,scaling='none',figsize=(6,3))\n",
    "vis.show(im,scaling='log',figsize=(6,3))\n",
    "vis.show(im,scaling='power',power=0.5,figsize=(6,3))"
   ]
  },
  {
   "cell_type": "code",
   "execution_count": null,
   "id": "sixth-report",
   "metadata": {},
   "outputs": [],
   "source": [
    "# Setting `hist=True` displays the image histogram instead of the image\n",
    "# Dashed lines show the minimum and maximum values, beyond which the pixel intensities are saturated \n",
    "vis.show(im,hist=True,n_bins=32,figsize=(8,4))"
   ]
  },
  {
   "cell_type": "code",
   "execution_count": null,
   "id": "compressed-rescue",
   "metadata": {},
   "outputs": [],
   "source": [
    "vis.show(im,hist=True,n_bins=32,scaling='none',figsize=(8,2))             # default\n",
    "vis.show(im,hist=True,n_bins=32,scaling='log',figsize=(8,2))\n",
    "vis.show(im,hist=True,n_bins=32,scaling='power',power=0.5,figsize=(8,2))"
   ]
  },
  {
   "cell_type": "code",
   "execution_count": null,
   "id": "mechanical-swimming",
   "metadata": {},
   "outputs": [],
   "source": [
    "vis.show(im,hist=True,n_bins=32,clipvals='minmax',figsize=(8,2))                    # default\n",
    "vis.show(im,hist=True,n_bins=32,clipvals='manual',min=0.1,max=0.7,figsize=(8,2))\n",
    "vis.show(im,hist=True,n_bins=32,clipvals='std',min=1,max=1,figsize=(8,2))           # min/max = mean +/- min/max*std"
   ]
  },
  {
   "cell_type": "code",
   "execution_count": null,
   "id": "joined-cookbook",
   "metadata": {},
   "outputs": [],
   "source": [
    "vis.show(im,clipvals='minmax',figsize=(8,2))\n",
    "vis.show(im,clipvals='manual',min=0.1,max=0.7,figsize=(8,2))\n",
    "vis.show(im,clipvals='std',min=1,max=1,figsize=(8,2))"
   ]
  },
  {
   "cell_type": "code",
   "execution_count": null,
   "id": "usual-appeal",
   "metadata": {},
   "outputs": [],
   "source": [
    "# Setting `returnfig=True` returns the figure and axis objects\n",
    "from py4DSTEM.process.utils import get_maxima_2D\n",
    "fig,ax = vis.show(im,figsize=(6,3),returnfig=True)\n",
    "maxima = get_maxima_2D(im, maxNumPeaks=18)\n",
    "xmaxima, ymaxima = maxima['x'], maxima['y']\n",
    "ax.scatter(ymaxima,xmaxima,color='blue')\n",
    "plt.show()"
   ]
  },
  {
   "cell_type": "code",
   "execution_count": null,
   "id": "independent-conditions",
   "metadata": {},
   "outputs": [],
   "source": [
    "# Alternatively, setting `figax=(fig,ax)` tells \n",
    "# show to plot inside some existing matplotlib Axes instance\n",
    "fig,(ax1,ax2) = plt.subplots(2,1,figsize=(6,6))\n",
    "vis.show(im,figax=(fig,ax1))\n",
    "vis.show(im,figax=(fig,ax2),hist=True,n_bins=32)\n",
    "plt.show()"
   ]
  },
  {
   "cell_type": "code",
   "execution_count": null,
   "id": "exceptional-treat",
   "metadata": {},
   "outputs": [],
   "source": [
    "vis.show(im,figsize=(6,6),bordercolor='#6e961e',borderwidth=6)   # accepts anything matplotlib recognizes as a color\n",
    "vis.show(im,figsize=(6,6),bordercolor=(0.7,0.5,1,0.75),borderwidth=6)\n",
    "vis.show(im,figsize=(6,6),bordercolor='k',borderwidth=2)"
   ]
  },
  {
   "cell_type": "markdown",
   "id": "connected-cassette",
   "metadata": {},
   "source": [
    "## Overlays"
   ]
  },
  {
   "cell_type": "code",
   "execution_count": null,
   "id": "imported-closing",
   "metadata": {},
   "outputs": [],
   "source": [
    "vis.show_points(im,x=xmaxima,y=ymaxima,pointcolor='blue')\n",
    "vis.show(im,points={'x':xmaxima,'y':ymaxima,'pointcolor':'blue'})"
   ]
  },
  {
   "cell_type": "code",
   "execution_count": null,
   "id": "color-crawford",
   "metadata": {},
   "outputs": [],
   "source": [
    "s = np.arange(len(xmaxima))\n",
    "vis.show_points(im,x=xmaxima,y=ymaxima,pointcolor='blue',s=s,scale=100)  # `s` is relative sizes;\n",
    "vis.show(im,points={'x':xmaxima,'y':ymaxima,'pointcolor':'blue',         # `scale` is maximum size\n",
    "                    's':s,'scale':100})            "
   ]
  },
  {
   "cell_type": "code",
   "execution_count": null,
   "id": "complete-brooklyn",
   "metadata": {},
   "outputs": [],
   "source": [
    "corners = (5,60,15,50)    # (xmin,xmax,ymin,ymax)\n",
    "\n",
    "# The origin is the upper left. x is downwards.  Truly, I am sorry\n",
    "# The box is drawn to surround a set of pixels;\n",
    "# minima are inclusive, and maxima are exclusive, to match numpy array slicing\n",
    "\n",
    "vis.show_rectangles(im,corners,fill=False,linewidth=2,alpha=1)\n",
    "vis.show(im,rectangle={'lims':corners,'fill':False,\n",
    "                       'linewidth':2,'alpha':1})\n",
    "vis.show(im[corners[0]:corners[1],corners[2]:corners[3]])        "
   ]
  },
  {
   "cell_type": "code",
   "execution_count": null,
   "id": "terminal-adapter",
   "metadata": {},
   "outputs": [],
   "source": [
    "rect_params = (0,60,80,160)\n",
    "vis.show_rectangles(im,rect_params,alpha=0.25)\n",
    "vis.show_rectangles(im,rect_params,fill=False,linewidth=4,alpha=1,color='b')\n",
    "vis.show_rectangles(im,[(0,60,80,160),(80,100,120,200)],alpha=[0.3,1],fill=[True,False],color=['r','b'])"
   ]
  },
  {
   "cell_type": "code",
   "execution_count": null,
   "id": "close-peter",
   "metadata": {},
   "outputs": [],
   "source": [
    "circ_center = (28,68)\n",
    "circ_R = 20\n",
    "vis.show_circles(im,circ_center,circ_R)"
   ]
  },
  {
   "cell_type": "code",
   "execution_count": null,
   "id": "three-stack",
   "metadata": {},
   "outputs": [],
   "source": [
    "circ_centers = [(x,y) for (x,y) in zip(xmaxima,ymaxima)]\n",
    "circ_Rs = list(5*np.sin(2*np.pi*np.arange(len(xmaxima))/len(xmaxima))+0.5)\n",
    "vis.show_circles(im,circ_centers,circ_Rs,alpha=0.5,fill=True)"
   ]
  },
  {
   "cell_type": "code",
   "execution_count": null,
   "id": "regional-steps",
   "metadata": {},
   "outputs": [],
   "source": [
    "from matplotlib.cm import get_cmap\n",
    "cmap = get_cmap('jet')\n",
    "colors_circle = [cmap(i) for i in np.linspace(0,1,len(xmaxima))]\n",
    "vis.show_circles(im,circ_centers,circ_Rs,alpha=0.5,color=colors_circle)"
   ]
  },
  {
   "cell_type": "code",
   "execution_count": null,
   "id": "separate-collection",
   "metadata": {},
   "outputs": [],
   "source": [
    "ann_center = (28,68)\n",
    "ann_Ri,ann_Ro = 16,24\n",
    "vis.show_annuli(im,ann_center,(ann_Ri,ann_Ro))\n",
    "vis.show_annuli(im,center=[(28,68),(92,160)],radii=[(16,24), (12,36)],color=['r',(0,1,1,1)])"
   ]
  },
  {
   "cell_type": "code",
   "execution_count": null,
   "id": "recent-affairs",
   "metadata": {},
   "outputs": [],
   "source": [
    "vis.show_ellipses(im,center=[(40,48),(80,176)],alpha=1,\n",
    "                                 a=[32,32],b=[20,30],theta=[0,np.pi/4.],color='pink',fill=False)"
   ]
  },
  {
   "cell_type": "code",
   "execution_count": null,
   "id": "interpreted-crash",
   "metadata": {},
   "outputs": [],
   "source": [
    "vis.show(im,\n",
    "         rectangle={'lims':[(0,60,80,160),(80,100,120,200)],\n",
    "                    'color':['r','b'],\n",
    "                    'fill':[True,False],\n",
    "                    'alpha':[0.3,1],\n",
    "                    'linewidth':1,\n",
    "                    'linestyle':'--'},\n",
    "         circle={'center':circ_centers,\n",
    "                 'R':circ_Rs,\n",
    "                 'alpha':0.5,\n",
    "                 'color':list(colors_circle),\n",
    "                 'fill':True},\n",
    "         annulus={'center':[(28,68),(92,160)],'fill':True,'alpha':[0.9,0.3],\n",
    "                  'radii':[(16,24), (12,36)],'color':['r',(0,1,1,1)]},\n",
    "         ellipse={'center':[(40,48),(80,176)],\n",
    "                  'a':[32,32],'b':[15,30],'theta':[0,np.pi/4.],'fill':False,'linewidth':2,\n",
    "                  'color':'pink','ls':'-','alpha':1})"
   ]
  },
  {
   "cell_type": "markdown",
   "id": "fleet-glenn",
   "metadata": {},
   "source": [
    "## Masks"
   ]
  },
  {
   "cell_type": "code",
   "execution_count": null,
   "id": "russian-forestry",
   "metadata": {},
   "outputs": [],
   "source": [
    "# If a mask is passed, the image is plotted wherever mask==True\n",
    "mask = np.ones_like(im,dtype=bool)\n",
    "mask[40:80,80:160] = False\n",
    "vis.show(im,mask=mask)\n",
    "vis.show(im,mask=mask,mask_color='r')"
   ]
  },
  {
   "cell_type": "code",
   "execution_count": null,
   "id": "pleasant-intranet",
   "metadata": {},
   "outputs": [],
   "source": [
    "# Numpy masked arrays flip the mask logic - \n",
    "# the image is plotted wherever mask==False\n",
    "im_ma = np.ma.array(data=im,mask=mask==False)\n",
    "vis.show(im_ma)"
   ]
  },
  {
   "cell_type": "code",
   "execution_count": null,
   "id": "asian-transfer",
   "metadata": {},
   "outputs": [],
   "source": []
  }
 ],
 "metadata": {
  "kernelspec": {
   "display_name": "Python 3.8.13 ('py4dstem')",
   "language": "python",
   "name": "python3"
  },
  "language_info": {
   "codemirror_mode": {
    "name": "ipython",
    "version": 3
   },
   "file_extension": ".py",
   "mimetype": "text/x-python",
   "name": "python",
   "nbconvert_exporter": "python",
   "pygments_lexer": "ipython3",
   "version": "3.8.13"
  },
  "vscode": {
   "interpreter": {
    "hash": "16cf4ea88f04de76dbac5635bddffd882f42ba619604d4144e123631135907f5"
   }
  }
 },
 "nbformat": 4,
 "nbformat_minor": 5
}
